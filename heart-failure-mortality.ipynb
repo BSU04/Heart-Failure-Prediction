{
 "cells": [
  {
   "cell_type": "markdown",
   "id": "c2af75fd",
   "metadata": {},
   "source": [
    "## Import Libraries\n"
   ]
  },
  {
   "cell_type": "code",
   "execution_count": 24,
   "id": "a35279d2",
   "metadata": {},
   "outputs": [],
   "source": [
    "import os\n",
    "import pandas as pd\n",
    "import numpy as np\n",
    "import matplotlib.pyplot as plt\n",
    "import seaborn as sns\n",
    "%matplotlib inline\n",
    "import plotly.express as px\n",
    "import missingno as msn\n",
    "from sklearn import preprocessing "
   ]
  },
  {
   "cell_type": "markdown",
   "id": "ebe6bde5",
   "metadata": {},
   "source": [
    "## Importing Dataset"
   ]
  },
  {
   "cell_type": "code",
   "execution_count": 2,
   "id": "95960747",
   "metadata": {},
   "outputs": [
    {
     "data": {
      "text/html": [
       "<div>\n",
       "<style scoped>\n",
       "    .dataframe tbody tr th:only-of-type {\n",
       "        vertical-align: middle;\n",
       "    }\n",
       "\n",
       "    .dataframe tbody tr th {\n",
       "        vertical-align: top;\n",
       "    }\n",
       "\n",
       "    .dataframe thead th {\n",
       "        text-align: right;\n",
       "    }\n",
       "</style>\n",
       "<table border=\"1\" class=\"dataframe\">\n",
       "  <thead>\n",
       "    <tr style=\"text-align: right;\">\n",
       "      <th></th>\n",
       "      <th>age</th>\n",
       "      <th>anaemia</th>\n",
       "      <th>creatinine_phosphokinase</th>\n",
       "      <th>diabetes</th>\n",
       "      <th>ejection_fraction</th>\n",
       "      <th>high_blood_pressure</th>\n",
       "      <th>platelets</th>\n",
       "      <th>serum_creatinine</th>\n",
       "      <th>serum_sodium</th>\n",
       "      <th>sex</th>\n",
       "      <th>smoking</th>\n",
       "      <th>time</th>\n",
       "      <th>DEATH_EVENT</th>\n",
       "    </tr>\n",
       "  </thead>\n",
       "  <tbody>\n",
       "    <tr>\n",
       "      <th>0</th>\n",
       "      <td>75.0</td>\n",
       "      <td>0</td>\n",
       "      <td>582</td>\n",
       "      <td>0</td>\n",
       "      <td>20</td>\n",
       "      <td>1</td>\n",
       "      <td>265000.00</td>\n",
       "      <td>1.9</td>\n",
       "      <td>130</td>\n",
       "      <td>1</td>\n",
       "      <td>0</td>\n",
       "      <td>4</td>\n",
       "      <td>1</td>\n",
       "    </tr>\n",
       "    <tr>\n",
       "      <th>1</th>\n",
       "      <td>55.0</td>\n",
       "      <td>0</td>\n",
       "      <td>7861</td>\n",
       "      <td>0</td>\n",
       "      <td>38</td>\n",
       "      <td>0</td>\n",
       "      <td>263358.03</td>\n",
       "      <td>1.1</td>\n",
       "      <td>136</td>\n",
       "      <td>1</td>\n",
       "      <td>0</td>\n",
       "      <td>6</td>\n",
       "      <td>1</td>\n",
       "    </tr>\n",
       "    <tr>\n",
       "      <th>2</th>\n",
       "      <td>65.0</td>\n",
       "      <td>0</td>\n",
       "      <td>146</td>\n",
       "      <td>0</td>\n",
       "      <td>20</td>\n",
       "      <td>0</td>\n",
       "      <td>162000.00</td>\n",
       "      <td>1.3</td>\n",
       "      <td>129</td>\n",
       "      <td>1</td>\n",
       "      <td>1</td>\n",
       "      <td>7</td>\n",
       "      <td>1</td>\n",
       "    </tr>\n",
       "    <tr>\n",
       "      <th>3</th>\n",
       "      <td>50.0</td>\n",
       "      <td>1</td>\n",
       "      <td>111</td>\n",
       "      <td>0</td>\n",
       "      <td>20</td>\n",
       "      <td>0</td>\n",
       "      <td>210000.00</td>\n",
       "      <td>1.9</td>\n",
       "      <td>137</td>\n",
       "      <td>1</td>\n",
       "      <td>0</td>\n",
       "      <td>7</td>\n",
       "      <td>1</td>\n",
       "    </tr>\n",
       "    <tr>\n",
       "      <th>4</th>\n",
       "      <td>65.0</td>\n",
       "      <td>1</td>\n",
       "      <td>160</td>\n",
       "      <td>1</td>\n",
       "      <td>20</td>\n",
       "      <td>0</td>\n",
       "      <td>327000.00</td>\n",
       "      <td>2.7</td>\n",
       "      <td>116</td>\n",
       "      <td>0</td>\n",
       "      <td>0</td>\n",
       "      <td>8</td>\n",
       "      <td>1</td>\n",
       "    </tr>\n",
       "    <tr>\n",
       "      <th>...</th>\n",
       "      <td>...</td>\n",
       "      <td>...</td>\n",
       "      <td>...</td>\n",
       "      <td>...</td>\n",
       "      <td>...</td>\n",
       "      <td>...</td>\n",
       "      <td>...</td>\n",
       "      <td>...</td>\n",
       "      <td>...</td>\n",
       "      <td>...</td>\n",
       "      <td>...</td>\n",
       "      <td>...</td>\n",
       "      <td>...</td>\n",
       "    </tr>\n",
       "    <tr>\n",
       "      <th>294</th>\n",
       "      <td>62.0</td>\n",
       "      <td>0</td>\n",
       "      <td>61</td>\n",
       "      <td>1</td>\n",
       "      <td>38</td>\n",
       "      <td>1</td>\n",
       "      <td>155000.00</td>\n",
       "      <td>1.1</td>\n",
       "      <td>143</td>\n",
       "      <td>1</td>\n",
       "      <td>1</td>\n",
       "      <td>270</td>\n",
       "      <td>0</td>\n",
       "    </tr>\n",
       "    <tr>\n",
       "      <th>295</th>\n",
       "      <td>55.0</td>\n",
       "      <td>0</td>\n",
       "      <td>1820</td>\n",
       "      <td>0</td>\n",
       "      <td>38</td>\n",
       "      <td>0</td>\n",
       "      <td>270000.00</td>\n",
       "      <td>1.2</td>\n",
       "      <td>139</td>\n",
       "      <td>0</td>\n",
       "      <td>0</td>\n",
       "      <td>271</td>\n",
       "      <td>0</td>\n",
       "    </tr>\n",
       "    <tr>\n",
       "      <th>296</th>\n",
       "      <td>45.0</td>\n",
       "      <td>0</td>\n",
       "      <td>2060</td>\n",
       "      <td>1</td>\n",
       "      <td>60</td>\n",
       "      <td>0</td>\n",
       "      <td>742000.00</td>\n",
       "      <td>0.8</td>\n",
       "      <td>138</td>\n",
       "      <td>0</td>\n",
       "      <td>0</td>\n",
       "      <td>278</td>\n",
       "      <td>0</td>\n",
       "    </tr>\n",
       "    <tr>\n",
       "      <th>297</th>\n",
       "      <td>45.0</td>\n",
       "      <td>0</td>\n",
       "      <td>2413</td>\n",
       "      <td>0</td>\n",
       "      <td>38</td>\n",
       "      <td>0</td>\n",
       "      <td>140000.00</td>\n",
       "      <td>1.4</td>\n",
       "      <td>140</td>\n",
       "      <td>1</td>\n",
       "      <td>1</td>\n",
       "      <td>280</td>\n",
       "      <td>0</td>\n",
       "    </tr>\n",
       "    <tr>\n",
       "      <th>298</th>\n",
       "      <td>50.0</td>\n",
       "      <td>0</td>\n",
       "      <td>196</td>\n",
       "      <td>0</td>\n",
       "      <td>45</td>\n",
       "      <td>0</td>\n",
       "      <td>395000.00</td>\n",
       "      <td>1.6</td>\n",
       "      <td>136</td>\n",
       "      <td>1</td>\n",
       "      <td>1</td>\n",
       "      <td>285</td>\n",
       "      <td>0</td>\n",
       "    </tr>\n",
       "  </tbody>\n",
       "</table>\n",
       "<p>299 rows × 13 columns</p>\n",
       "</div>"
      ],
      "text/plain": [
       "      age  anaemia  creatinine_phosphokinase  diabetes  ejection_fraction  \\\n",
       "0    75.0        0                       582         0                 20   \n",
       "1    55.0        0                      7861         0                 38   \n",
       "2    65.0        0                       146         0                 20   \n",
       "3    50.0        1                       111         0                 20   \n",
       "4    65.0        1                       160         1                 20   \n",
       "..    ...      ...                       ...       ...                ...   \n",
       "294  62.0        0                        61         1                 38   \n",
       "295  55.0        0                      1820         0                 38   \n",
       "296  45.0        0                      2060         1                 60   \n",
       "297  45.0        0                      2413         0                 38   \n",
       "298  50.0        0                       196         0                 45   \n",
       "\n",
       "     high_blood_pressure  platelets  serum_creatinine  serum_sodium  sex  \\\n",
       "0                      1  265000.00               1.9           130    1   \n",
       "1                      0  263358.03               1.1           136    1   \n",
       "2                      0  162000.00               1.3           129    1   \n",
       "3                      0  210000.00               1.9           137    1   \n",
       "4                      0  327000.00               2.7           116    0   \n",
       "..                   ...        ...               ...           ...  ...   \n",
       "294                    1  155000.00               1.1           143    1   \n",
       "295                    0  270000.00               1.2           139    0   \n",
       "296                    0  742000.00               0.8           138    0   \n",
       "297                    0  140000.00               1.4           140    1   \n",
       "298                    0  395000.00               1.6           136    1   \n",
       "\n",
       "     smoking  time  DEATH_EVENT  \n",
       "0          0     4            1  \n",
       "1          0     6            1  \n",
       "2          1     7            1  \n",
       "3          0     7            1  \n",
       "4          0     8            1  \n",
       "..       ...   ...          ...  \n",
       "294        1   270            0  \n",
       "295        0   271            0  \n",
       "296        0   278            0  \n",
       "297        1   280            0  \n",
       "298        1   285            0  \n",
       "\n",
       "[299 rows x 13 columns]"
      ]
     },
     "execution_count": 2,
     "metadata": {},
     "output_type": "execute_result"
    }
   ],
   "source": [
    "hf = pd.read_csv(\"heart failure.csv\")\n",
    "hf"
   ]
  },
  {
   "cell_type": "markdown",
   "id": "52099972",
   "metadata": {},
   "source": [
    "## Standardizing Column Names"
   ]
  },
  {
   "cell_type": "code",
   "execution_count": 3,
   "id": "8a1223de",
   "metadata": {},
   "outputs": [],
   "source": [
    "hf.rename(columns={\"age\":\"Age\",\"anaemia\":\"Anaemia\",\"creatinine_phosphokinase\":\"Creatinine Phosphokinase\",\"diabetes\":\"Diabetes\",\n",
    "                  \"ejection_fraction\":\"Ejection Fraction\",\"high_blood_pressure\":\"HBP\",\"platelets\":\"Platelets\",\n",
    "                  \"serum_creatinine\":\"Serum Creatinine\",\"serum_sodium\":\"Serum Sodium\",\"sex\":\"Sex\",\"smoking\":\"Smoking\",\n",
    "                  \"time\":\"Time\",\"DEATH_EVENT\":\"Death Event\"},inplace=True)"
   ]
  },
  {
   "cell_type": "code",
   "execution_count": 4,
   "id": "ac3b7e6a",
   "metadata": {},
   "outputs": [
    {
     "data": {
      "text/html": [
       "<div>\n",
       "<style scoped>\n",
       "    .dataframe tbody tr th:only-of-type {\n",
       "        vertical-align: middle;\n",
       "    }\n",
       "\n",
       "    .dataframe tbody tr th {\n",
       "        vertical-align: top;\n",
       "    }\n",
       "\n",
       "    .dataframe thead th {\n",
       "        text-align: right;\n",
       "    }\n",
       "</style>\n",
       "<table border=\"1\" class=\"dataframe\">\n",
       "  <thead>\n",
       "    <tr style=\"text-align: right;\">\n",
       "      <th></th>\n",
       "      <th>Age</th>\n",
       "      <th>Anaemia</th>\n",
       "      <th>Creatinine Phosphokinase</th>\n",
       "      <th>Diabetes</th>\n",
       "      <th>Ejection Fraction</th>\n",
       "      <th>HBP</th>\n",
       "      <th>Platelets</th>\n",
       "      <th>Serum Creatinine</th>\n",
       "      <th>Serum Sodium</th>\n",
       "      <th>Sex</th>\n",
       "      <th>Smoking</th>\n",
       "      <th>Time</th>\n",
       "      <th>Death Event</th>\n",
       "    </tr>\n",
       "  </thead>\n",
       "  <tbody>\n",
       "    <tr>\n",
       "      <th>0</th>\n",
       "      <td>75.0</td>\n",
       "      <td>0</td>\n",
       "      <td>582</td>\n",
       "      <td>0</td>\n",
       "      <td>20</td>\n",
       "      <td>1</td>\n",
       "      <td>265000.00</td>\n",
       "      <td>1.9</td>\n",
       "      <td>130</td>\n",
       "      <td>1</td>\n",
       "      <td>0</td>\n",
       "      <td>4</td>\n",
       "      <td>1</td>\n",
       "    </tr>\n",
       "    <tr>\n",
       "      <th>1</th>\n",
       "      <td>55.0</td>\n",
       "      <td>0</td>\n",
       "      <td>7861</td>\n",
       "      <td>0</td>\n",
       "      <td>38</td>\n",
       "      <td>0</td>\n",
       "      <td>263358.03</td>\n",
       "      <td>1.1</td>\n",
       "      <td>136</td>\n",
       "      <td>1</td>\n",
       "      <td>0</td>\n",
       "      <td>6</td>\n",
       "      <td>1</td>\n",
       "    </tr>\n",
       "    <tr>\n",
       "      <th>2</th>\n",
       "      <td>65.0</td>\n",
       "      <td>0</td>\n",
       "      <td>146</td>\n",
       "      <td>0</td>\n",
       "      <td>20</td>\n",
       "      <td>0</td>\n",
       "      <td>162000.00</td>\n",
       "      <td>1.3</td>\n",
       "      <td>129</td>\n",
       "      <td>1</td>\n",
       "      <td>1</td>\n",
       "      <td>7</td>\n",
       "      <td>1</td>\n",
       "    </tr>\n",
       "    <tr>\n",
       "      <th>3</th>\n",
       "      <td>50.0</td>\n",
       "      <td>1</td>\n",
       "      <td>111</td>\n",
       "      <td>0</td>\n",
       "      <td>20</td>\n",
       "      <td>0</td>\n",
       "      <td>210000.00</td>\n",
       "      <td>1.9</td>\n",
       "      <td>137</td>\n",
       "      <td>1</td>\n",
       "      <td>0</td>\n",
       "      <td>7</td>\n",
       "      <td>1</td>\n",
       "    </tr>\n",
       "    <tr>\n",
       "      <th>4</th>\n",
       "      <td>65.0</td>\n",
       "      <td>1</td>\n",
       "      <td>160</td>\n",
       "      <td>1</td>\n",
       "      <td>20</td>\n",
       "      <td>0</td>\n",
       "      <td>327000.00</td>\n",
       "      <td>2.7</td>\n",
       "      <td>116</td>\n",
       "      <td>0</td>\n",
       "      <td>0</td>\n",
       "      <td>8</td>\n",
       "      <td>1</td>\n",
       "    </tr>\n",
       "  </tbody>\n",
       "</table>\n",
       "</div>"
      ],
      "text/plain": [
       "    Age  Anaemia  Creatinine Phosphokinase  Diabetes  Ejection Fraction  HBP  \\\n",
       "0  75.0        0                       582         0                 20    1   \n",
       "1  55.0        0                      7861         0                 38    0   \n",
       "2  65.0        0                       146         0                 20    0   \n",
       "3  50.0        1                       111         0                 20    0   \n",
       "4  65.0        1                       160         1                 20    0   \n",
       "\n",
       "   Platelets  Serum Creatinine  Serum Sodium  Sex  Smoking  Time  Death Event  \n",
       "0  265000.00               1.9           130    1        0     4            1  \n",
       "1  263358.03               1.1           136    1        0     6            1  \n",
       "2  162000.00               1.3           129    1        1     7            1  \n",
       "3  210000.00               1.9           137    1        0     7            1  \n",
       "4  327000.00               2.7           116    0        0     8            1  "
      ]
     },
     "execution_count": 4,
     "metadata": {},
     "output_type": "execute_result"
    }
   ],
   "source": [
    "hf.head()"
   ]
  },
  {
   "cell_type": "markdown",
   "id": "84566a4a",
   "metadata": {},
   "source": [
    "## *Domain Features*"
   ]
  },
  {
   "cell_type": "markdown",
   "id": "4cf4d4ef",
   "metadata": {},
   "source": [
    "> **Anaemia** - Anaemia refers to a haemoglobin concentration or number of red blood cells below a specified cut-off point.\n",
    "                This cut off point is influenced by factors such as age, gender or even geological locations.\n",
    "                Haemoglobin is an important protein contained in red blood cells that function to transport oxygen to organs.\n",
    "                \n",
    "*Haemoglobin Normal Range - 13.2 to 16.6 grams (g) of hemoglobin per deciliter (dL) of blood for men and 11.6 to 15 g/dL for women* (Boolean)\n",
    "                \n",
    "> **Creatinine Phosphokinase** - Creatine phosphokinase (CPK) is an enzyme in the body. It is found mainly in the heart, brain,\n",
    "                                 and skeletal muscle.\n",
    "                                 \n",
    "*CPK Normal Values: 39 – 308 mcg/L (Male), 26 – 192 mcg/L (Female)* (Boolean)\n",
    "\n",
    "> **Diabetes** - Diabetes is a chronic disease that occurs either when the pancreas does not produce enough insulin or when the \n",
    "                 body cannot effectively use the insulin it produces.\n",
    "                 \n",
    "*Blood Sugar Normal Range: After 8 hrs of fasting (70 - 100 mg/dL), After 2 hrs of eating (90 - 100 mg/dL)* (Boolean) \n",
    "\n",
    "> **Ejection Fraction** - Ejection fraction refers to how well your heart pumps blood. It is the amount of blood pumped out of \n",
    "                          your heart’s lower chambers (ventricles) each time it contracts.\n",
    "                          \n",
    "*Ejection Fraction Normal Range: Male (52% to 72%), Female (54% to 74%)* (%)\n",
    "\n",
    "> **HBP** - High blood pressure (also referred to as HBP, or hypertension) is when your blood pressure, the force of blood \n",
    "            flowing through your blood vessels, is consistently too high. \n",
    "\n",
    "\n",
    "*Reading: 130/80 mm Hg and above* (Boolean)\n",
    "\n",
    "> **Platelets** - Platelets are tiny blood cells that help your body form clots to stop bleeding. If one of your blood vessels \n",
    "                  gets damaged, it sends out signals to the platelets. The platelets then rush to the site of damage and form a\n",
    "                  plug (clot) to fix the damage. \n",
    "                  \n",
    "*Platelets Normal Range: 150,000 to 450,000 kiloplatelets/mL*      \n",
    "\n",
    "> **Serum Creatinine** - Creatinine is a waste product in your blood that comes from your muscles. Healthy kidneys filter\n",
    "                         creatinine out of your blood through your urine.\n",
    "                          \n",
    "*Serum Creatinine Normal Range:     0.7 - 1.3 mg/dL (males), 0.6 - 1.1 mg/dL (females)*    \n",
    "\n",
    "> **Serum Sodium** - Sodium is particularly important for nerve and muscle function.\n",
    "                     Too much sodium can raise your blood pressure. \n",
    "                          \n",
    "*Serum Sodium Normal Range: 135-147 mEq/L*\n",
    "\n",
    "> **Sex** - Binary\n",
    "\n",
    "> **Smoking** - Boolean\n",
    "\n",
    "> **Time** - Follow up period (Days)\n",
    "\n",
    "> **DEATH EVENT** - If the patient deceased during the follow-up period (Boolean)"
   ]
  },
  {
   "cell_type": "code",
   "execution_count": 20,
   "id": "1bbee23f",
   "metadata": {},
   "outputs": [
    {
     "data": {
      "text/html": [
       "<div>\n",
       "<style scoped>\n",
       "    .dataframe tbody tr th:only-of-type {\n",
       "        vertical-align: middle;\n",
       "    }\n",
       "\n",
       "    .dataframe tbody tr th {\n",
       "        vertical-align: top;\n",
       "    }\n",
       "\n",
       "    .dataframe thead th {\n",
       "        text-align: right;\n",
       "    }\n",
       "</style>\n",
       "<table border=\"1\" class=\"dataframe\">\n",
       "  <thead>\n",
       "    <tr style=\"text-align: right;\">\n",
       "      <th></th>\n",
       "      <th>Age</th>\n",
       "      <th>Anaemia</th>\n",
       "      <th>Creatinine Phosphokinase</th>\n",
       "      <th>Diabetes</th>\n",
       "      <th>Ejection Fraction</th>\n",
       "      <th>HBP</th>\n",
       "      <th>Platelets</th>\n",
       "      <th>Serum Creatinine</th>\n",
       "      <th>Serum Sodium</th>\n",
       "      <th>Sex</th>\n",
       "      <th>Smoking</th>\n",
       "      <th>Time</th>\n",
       "      <th>Death Event</th>\n",
       "    </tr>\n",
       "  </thead>\n",
       "  <tbody>\n",
       "    <tr>\n",
       "      <th>0</th>\n",
       "      <td>75.0</td>\n",
       "      <td>0</td>\n",
       "      <td>582</td>\n",
       "      <td>0</td>\n",
       "      <td>20</td>\n",
       "      <td>1</td>\n",
       "      <td>265000.00</td>\n",
       "      <td>1.9</td>\n",
       "      <td>130</td>\n",
       "      <td>1</td>\n",
       "      <td>0</td>\n",
       "      <td>4</td>\n",
       "      <td>1</td>\n",
       "    </tr>\n",
       "    <tr>\n",
       "      <th>1</th>\n",
       "      <td>55.0</td>\n",
       "      <td>0</td>\n",
       "      <td>7861</td>\n",
       "      <td>0</td>\n",
       "      <td>38</td>\n",
       "      <td>0</td>\n",
       "      <td>263358.03</td>\n",
       "      <td>1.1</td>\n",
       "      <td>136</td>\n",
       "      <td>1</td>\n",
       "      <td>0</td>\n",
       "      <td>6</td>\n",
       "      <td>1</td>\n",
       "    </tr>\n",
       "    <tr>\n",
       "      <th>2</th>\n",
       "      <td>65.0</td>\n",
       "      <td>0</td>\n",
       "      <td>146</td>\n",
       "      <td>0</td>\n",
       "      <td>20</td>\n",
       "      <td>0</td>\n",
       "      <td>162000.00</td>\n",
       "      <td>1.3</td>\n",
       "      <td>129</td>\n",
       "      <td>1</td>\n",
       "      <td>1</td>\n",
       "      <td>7</td>\n",
       "      <td>1</td>\n",
       "    </tr>\n",
       "    <tr>\n",
       "      <th>3</th>\n",
       "      <td>50.0</td>\n",
       "      <td>1</td>\n",
       "      <td>111</td>\n",
       "      <td>0</td>\n",
       "      <td>20</td>\n",
       "      <td>0</td>\n",
       "      <td>210000.00</td>\n",
       "      <td>1.9</td>\n",
       "      <td>137</td>\n",
       "      <td>1</td>\n",
       "      <td>0</td>\n",
       "      <td>7</td>\n",
       "      <td>1</td>\n",
       "    </tr>\n",
       "    <tr>\n",
       "      <th>4</th>\n",
       "      <td>65.0</td>\n",
       "      <td>1</td>\n",
       "      <td>160</td>\n",
       "      <td>1</td>\n",
       "      <td>20</td>\n",
       "      <td>0</td>\n",
       "      <td>327000.00</td>\n",
       "      <td>2.7</td>\n",
       "      <td>116</td>\n",
       "      <td>0</td>\n",
       "      <td>0</td>\n",
       "      <td>8</td>\n",
       "      <td>1</td>\n",
       "    </tr>\n",
       "  </tbody>\n",
       "</table>\n",
       "</div>"
      ],
      "text/plain": [
       "    Age  Anaemia  Creatinine Phosphokinase  Diabetes  Ejection Fraction  HBP  \\\n",
       "0  75.0        0                       582         0                 20    1   \n",
       "1  55.0        0                      7861         0                 38    0   \n",
       "2  65.0        0                       146         0                 20    0   \n",
       "3  50.0        1                       111         0                 20    0   \n",
       "4  65.0        1                       160         1                 20    0   \n",
       "\n",
       "   Platelets  Serum Creatinine  Serum Sodium  Sex  Smoking  Time  Death Event  \n",
       "0  265000.00               1.9           130    1        0     4            1  \n",
       "1  263358.03               1.1           136    1        0     6            1  \n",
       "2  162000.00               1.3           129    1        1     7            1  \n",
       "3  210000.00               1.9           137    1        0     7            1  \n",
       "4  327000.00               2.7           116    0        0     8            1  "
      ]
     },
     "execution_count": 20,
     "metadata": {},
     "output_type": "execute_result"
    }
   ],
   "source": [
    "hf.head(5)"
   ]
  },
  {
   "cell_type": "markdown",
   "id": "ee18bacf",
   "metadata": {},
   "source": [
    "## *Features (Current)*"
   ]
  },
  {
   "cell_type": "markdown",
   "id": "10b6679e",
   "metadata": {},
   "source": [
    "    P - Perfect\n",
    "    U - Unit Change\n",
    "\n",
    "1. Age **(Years)**\n",
    "2. Anaemia - 1/0 **(g/dL)**\n",
    "3. Creatinine Phosphokinase - P **(mcg/L)**\n",
    "4. Diabetes - 1/0 **(mg/dL)**\n",
    "5. Ejection Fraction - P **(%)**\n",
    "6. HBP - 1/0 **(mm Hg)**\n",
    "7. Platelets - P **(mcL)**\n",
    "8. Serum Creatinine - P **(mg/dL)**\n",
    "9. Serum Sodium - P **(mmol/L)**\n",
    "10. Sex - 1/0\n",
    "11. Smoking - 1/0 \n",
    "12. Time - P\n",
    "13. Death Event - 1"
   ]
  },
  {
   "cell_type": "markdown",
   "id": "ea42609b",
   "metadata": {},
   "source": [
    "## *Data Exploration*"
   ]
  },
  {
   "cell_type": "code",
   "execution_count": 6,
   "id": "b2082a3e",
   "metadata": {},
   "outputs": [
    {
     "data": {
      "text/plain": [
       "(299, 13)"
      ]
     },
     "execution_count": 6,
     "metadata": {},
     "output_type": "execute_result"
    }
   ],
   "source": [
    "hf.shape"
   ]
  },
  {
   "cell_type": "code",
   "execution_count": 7,
   "id": "fd181c33",
   "metadata": {},
   "outputs": [
    {
     "data": {
      "text/plain": [
       "Age                         float64\n",
       "Anaemia                       int64\n",
       "Creatinine Phosphokinase      int64\n",
       "Diabetes                      int64\n",
       "Ejection Fraction             int64\n",
       "HBP                           int64\n",
       "Platelets                   float64\n",
       "Serum Creatinine            float64\n",
       "Serum Sodium                  int64\n",
       "Sex                           int64\n",
       "Smoking                       int64\n",
       "Time                          int64\n",
       "Death Event                   int64\n",
       "dtype: object"
      ]
     },
     "execution_count": 7,
     "metadata": {},
     "output_type": "execute_result"
    }
   ],
   "source": [
    "hf.dtypes"
   ]
  },
  {
   "cell_type": "markdown",
   "id": "b6261999",
   "metadata": {},
   "source": [
    "Datatypes are correctly assigned for each features so there arises no issues whatsoever"
   ]
  },
  {
   "cell_type": "code",
   "execution_count": 8,
   "id": "c78038a0",
   "metadata": {},
   "outputs": [
    {
     "data": {
      "text/html": [
       "<div>\n",
       "<style scoped>\n",
       "    .dataframe tbody tr th:only-of-type {\n",
       "        vertical-align: middle;\n",
       "    }\n",
       "\n",
       "    .dataframe tbody tr th {\n",
       "        vertical-align: top;\n",
       "    }\n",
       "\n",
       "    .dataframe thead th {\n",
       "        text-align: right;\n",
       "    }\n",
       "</style>\n",
       "<table border=\"1\" class=\"dataframe\">\n",
       "  <thead>\n",
       "    <tr style=\"text-align: right;\">\n",
       "      <th></th>\n",
       "      <th>Age</th>\n",
       "      <th>Anaemia</th>\n",
       "      <th>Creatinine Phosphokinase</th>\n",
       "      <th>Diabetes</th>\n",
       "      <th>Ejection Fraction</th>\n",
       "      <th>HBP</th>\n",
       "      <th>Platelets</th>\n",
       "      <th>Serum Creatinine</th>\n",
       "      <th>Serum Sodium</th>\n",
       "      <th>Sex</th>\n",
       "      <th>Smoking</th>\n",
       "      <th>Time</th>\n",
       "      <th>Death Event</th>\n",
       "    </tr>\n",
       "  </thead>\n",
       "  <tbody>\n",
       "    <tr>\n",
       "      <th>count</th>\n",
       "      <td>299.000000</td>\n",
       "      <td>299.000000</td>\n",
       "      <td>299.000000</td>\n",
       "      <td>299.000000</td>\n",
       "      <td>299.000000</td>\n",
       "      <td>299.000000</td>\n",
       "      <td>299.000000</td>\n",
       "      <td>299.00000</td>\n",
       "      <td>299.000000</td>\n",
       "      <td>299.000000</td>\n",
       "      <td>299.00000</td>\n",
       "      <td>299.000000</td>\n",
       "      <td>299.00000</td>\n",
       "    </tr>\n",
       "    <tr>\n",
       "      <th>mean</th>\n",
       "      <td>60.833893</td>\n",
       "      <td>0.431438</td>\n",
       "      <td>581.839465</td>\n",
       "      <td>0.418060</td>\n",
       "      <td>38.083612</td>\n",
       "      <td>0.351171</td>\n",
       "      <td>263358.029264</td>\n",
       "      <td>1.39388</td>\n",
       "      <td>136.625418</td>\n",
       "      <td>0.648829</td>\n",
       "      <td>0.32107</td>\n",
       "      <td>130.260870</td>\n",
       "      <td>0.32107</td>\n",
       "    </tr>\n",
       "    <tr>\n",
       "      <th>std</th>\n",
       "      <td>11.894809</td>\n",
       "      <td>0.496107</td>\n",
       "      <td>970.287881</td>\n",
       "      <td>0.494067</td>\n",
       "      <td>11.834841</td>\n",
       "      <td>0.478136</td>\n",
       "      <td>97804.236869</td>\n",
       "      <td>1.03451</td>\n",
       "      <td>4.412477</td>\n",
       "      <td>0.478136</td>\n",
       "      <td>0.46767</td>\n",
       "      <td>77.614208</td>\n",
       "      <td>0.46767</td>\n",
       "    </tr>\n",
       "    <tr>\n",
       "      <th>min</th>\n",
       "      <td>40.000000</td>\n",
       "      <td>0.000000</td>\n",
       "      <td>23.000000</td>\n",
       "      <td>0.000000</td>\n",
       "      <td>14.000000</td>\n",
       "      <td>0.000000</td>\n",
       "      <td>25100.000000</td>\n",
       "      <td>0.50000</td>\n",
       "      <td>113.000000</td>\n",
       "      <td>0.000000</td>\n",
       "      <td>0.00000</td>\n",
       "      <td>4.000000</td>\n",
       "      <td>0.00000</td>\n",
       "    </tr>\n",
       "    <tr>\n",
       "      <th>25%</th>\n",
       "      <td>51.000000</td>\n",
       "      <td>0.000000</td>\n",
       "      <td>116.500000</td>\n",
       "      <td>0.000000</td>\n",
       "      <td>30.000000</td>\n",
       "      <td>0.000000</td>\n",
       "      <td>212500.000000</td>\n",
       "      <td>0.90000</td>\n",
       "      <td>134.000000</td>\n",
       "      <td>0.000000</td>\n",
       "      <td>0.00000</td>\n",
       "      <td>73.000000</td>\n",
       "      <td>0.00000</td>\n",
       "    </tr>\n",
       "    <tr>\n",
       "      <th>50%</th>\n",
       "      <td>60.000000</td>\n",
       "      <td>0.000000</td>\n",
       "      <td>250.000000</td>\n",
       "      <td>0.000000</td>\n",
       "      <td>38.000000</td>\n",
       "      <td>0.000000</td>\n",
       "      <td>262000.000000</td>\n",
       "      <td>1.10000</td>\n",
       "      <td>137.000000</td>\n",
       "      <td>1.000000</td>\n",
       "      <td>0.00000</td>\n",
       "      <td>115.000000</td>\n",
       "      <td>0.00000</td>\n",
       "    </tr>\n",
       "    <tr>\n",
       "      <th>75%</th>\n",
       "      <td>70.000000</td>\n",
       "      <td>1.000000</td>\n",
       "      <td>582.000000</td>\n",
       "      <td>1.000000</td>\n",
       "      <td>45.000000</td>\n",
       "      <td>1.000000</td>\n",
       "      <td>303500.000000</td>\n",
       "      <td>1.40000</td>\n",
       "      <td>140.000000</td>\n",
       "      <td>1.000000</td>\n",
       "      <td>1.00000</td>\n",
       "      <td>203.000000</td>\n",
       "      <td>1.00000</td>\n",
       "    </tr>\n",
       "    <tr>\n",
       "      <th>max</th>\n",
       "      <td>95.000000</td>\n",
       "      <td>1.000000</td>\n",
       "      <td>7861.000000</td>\n",
       "      <td>1.000000</td>\n",
       "      <td>80.000000</td>\n",
       "      <td>1.000000</td>\n",
       "      <td>850000.000000</td>\n",
       "      <td>9.40000</td>\n",
       "      <td>148.000000</td>\n",
       "      <td>1.000000</td>\n",
       "      <td>1.00000</td>\n",
       "      <td>285.000000</td>\n",
       "      <td>1.00000</td>\n",
       "    </tr>\n",
       "  </tbody>\n",
       "</table>\n",
       "</div>"
      ],
      "text/plain": [
       "              Age     Anaemia  Creatinine Phosphokinase    Diabetes  \\\n",
       "count  299.000000  299.000000                299.000000  299.000000   \n",
       "mean    60.833893    0.431438                581.839465    0.418060   \n",
       "std     11.894809    0.496107                970.287881    0.494067   \n",
       "min     40.000000    0.000000                 23.000000    0.000000   \n",
       "25%     51.000000    0.000000                116.500000    0.000000   \n",
       "50%     60.000000    0.000000                250.000000    0.000000   \n",
       "75%     70.000000    1.000000                582.000000    1.000000   \n",
       "max     95.000000    1.000000               7861.000000    1.000000   \n",
       "\n",
       "       Ejection Fraction         HBP      Platelets  Serum Creatinine  \\\n",
       "count         299.000000  299.000000     299.000000         299.00000   \n",
       "mean           38.083612    0.351171  263358.029264           1.39388   \n",
       "std            11.834841    0.478136   97804.236869           1.03451   \n",
       "min            14.000000    0.000000   25100.000000           0.50000   \n",
       "25%            30.000000    0.000000  212500.000000           0.90000   \n",
       "50%            38.000000    0.000000  262000.000000           1.10000   \n",
       "75%            45.000000    1.000000  303500.000000           1.40000   \n",
       "max            80.000000    1.000000  850000.000000           9.40000   \n",
       "\n",
       "       Serum Sodium         Sex    Smoking        Time  Death Event  \n",
       "count    299.000000  299.000000  299.00000  299.000000    299.00000  \n",
       "mean     136.625418    0.648829    0.32107  130.260870      0.32107  \n",
       "std        4.412477    0.478136    0.46767   77.614208      0.46767  \n",
       "min      113.000000    0.000000    0.00000    4.000000      0.00000  \n",
       "25%      134.000000    0.000000    0.00000   73.000000      0.00000  \n",
       "50%      137.000000    1.000000    0.00000  115.000000      0.00000  \n",
       "75%      140.000000    1.000000    1.00000  203.000000      1.00000  \n",
       "max      148.000000    1.000000    1.00000  285.000000      1.00000  "
      ]
     },
     "execution_count": 8,
     "metadata": {},
     "output_type": "execute_result"
    }
   ],
   "source": [
    "hf.describe()"
   ]
  },
  {
   "cell_type": "markdown",
   "id": "dab0f3b8",
   "metadata": {},
   "source": [
    "**AGE**\n",
    "\n",
    "1. Patients diagnosed has ages between 40 - 95\n",
    "2. Average age of the patients is around 61\n",
    "\n",
    "**CPK**\n",
    "\n",
    "1. Most of the patients has CPK levels around 581 which is much higher than the normal range.\n",
    "2. Min creatinine level - 23\n",
    "3. Max creatinine level - 7861\n",
    "\n",
    "**Ejection Fraction**\n",
    "\n",
    "1. Average percentage level < the normal level (38%)\n",
    "2. Min EF - 14%\n",
    "3. Max EF - 80%\n",
    "\n",
    "**Platelets**\n",
    "\n",
    "1. Average platelet count of patients is around 2,63,000.\n",
    "2. Min PC - 25100 \n",
    "3. Max PC - 8,50,000 which is much > the normal (1.5 to 4.5)\n",
    "\n",
    "**Serum Creatinine**\n",
    "\n",
    "1. Average level - 1.4\n",
    "2. Min SC - 0.5\n",
    "3. Max SC - 9.4\n",
    "\n",
    "**Serum Sodium**\n",
    "\n",
    "1. Average level - 136\n",
    "2. Min SS - 113\n",
    "3. Max SS - 148\n",
    "\n",
    "*To Clear*\n",
    "\n",
    "Time - 130.260"
   ]
  },
  {
   "cell_type": "code",
   "execution_count": 9,
   "id": "95811c4d",
   "metadata": {
    "scrolled": false
   },
   "outputs": [
    {
     "data": {
      "text/html": [
       "<div>\n",
       "<style scoped>\n",
       "    .dataframe tbody tr th:only-of-type {\n",
       "        vertical-align: middle;\n",
       "    }\n",
       "\n",
       "    .dataframe tbody tr th {\n",
       "        vertical-align: top;\n",
       "    }\n",
       "\n",
       "    .dataframe thead th {\n",
       "        text-align: right;\n",
       "    }\n",
       "</style>\n",
       "<table border=\"1\" class=\"dataframe\">\n",
       "  <thead>\n",
       "    <tr style=\"text-align: right;\">\n",
       "      <th></th>\n",
       "      <th>Age</th>\n",
       "      <th>Anaemia</th>\n",
       "      <th>Creatinine Phosphokinase</th>\n",
       "      <th>Diabetes</th>\n",
       "      <th>Ejection Fraction</th>\n",
       "      <th>HBP</th>\n",
       "      <th>Platelets</th>\n",
       "      <th>Serum Creatinine</th>\n",
       "      <th>Serum Sodium</th>\n",
       "      <th>Sex</th>\n",
       "      <th>Smoking</th>\n",
       "      <th>Time</th>\n",
       "      <th>Death Event</th>\n",
       "    </tr>\n",
       "  </thead>\n",
       "  <tbody>\n",
       "    <tr>\n",
       "      <th>Age</th>\n",
       "      <td>1.000000</td>\n",
       "      <td>0.088006</td>\n",
       "      <td>-0.081584</td>\n",
       "      <td>-0.101012</td>\n",
       "      <td>0.060098</td>\n",
       "      <td>0.093289</td>\n",
       "      <td>-0.052354</td>\n",
       "      <td>0.159187</td>\n",
       "      <td>-0.045966</td>\n",
       "      <td>0.065430</td>\n",
       "      <td>0.018668</td>\n",
       "      <td>-0.224068</td>\n",
       "      <td>0.253729</td>\n",
       "    </tr>\n",
       "    <tr>\n",
       "      <th>Anaemia</th>\n",
       "      <td>0.088006</td>\n",
       "      <td>1.000000</td>\n",
       "      <td>-0.190741</td>\n",
       "      <td>-0.012729</td>\n",
       "      <td>0.031557</td>\n",
       "      <td>0.038182</td>\n",
       "      <td>-0.043786</td>\n",
       "      <td>0.052174</td>\n",
       "      <td>0.041882</td>\n",
       "      <td>-0.094769</td>\n",
       "      <td>-0.107290</td>\n",
       "      <td>-0.141414</td>\n",
       "      <td>0.066270</td>\n",
       "    </tr>\n",
       "    <tr>\n",
       "      <th>Creatinine Phosphokinase</th>\n",
       "      <td>-0.081584</td>\n",
       "      <td>-0.190741</td>\n",
       "      <td>1.000000</td>\n",
       "      <td>-0.009639</td>\n",
       "      <td>-0.044080</td>\n",
       "      <td>-0.070590</td>\n",
       "      <td>0.024463</td>\n",
       "      <td>-0.016408</td>\n",
       "      <td>0.059550</td>\n",
       "      <td>0.079791</td>\n",
       "      <td>0.002421</td>\n",
       "      <td>-0.009346</td>\n",
       "      <td>0.062728</td>\n",
       "    </tr>\n",
       "    <tr>\n",
       "      <th>Diabetes</th>\n",
       "      <td>-0.101012</td>\n",
       "      <td>-0.012729</td>\n",
       "      <td>-0.009639</td>\n",
       "      <td>1.000000</td>\n",
       "      <td>-0.004850</td>\n",
       "      <td>-0.012732</td>\n",
       "      <td>0.092193</td>\n",
       "      <td>-0.046975</td>\n",
       "      <td>-0.089551</td>\n",
       "      <td>-0.157730</td>\n",
       "      <td>-0.147173</td>\n",
       "      <td>0.033726</td>\n",
       "      <td>-0.001943</td>\n",
       "    </tr>\n",
       "    <tr>\n",
       "      <th>Ejection Fraction</th>\n",
       "      <td>0.060098</td>\n",
       "      <td>0.031557</td>\n",
       "      <td>-0.044080</td>\n",
       "      <td>-0.004850</td>\n",
       "      <td>1.000000</td>\n",
       "      <td>0.024445</td>\n",
       "      <td>0.072177</td>\n",
       "      <td>-0.011302</td>\n",
       "      <td>0.175902</td>\n",
       "      <td>-0.148386</td>\n",
       "      <td>-0.067315</td>\n",
       "      <td>0.041729</td>\n",
       "      <td>-0.268603</td>\n",
       "    </tr>\n",
       "    <tr>\n",
       "      <th>HBP</th>\n",
       "      <td>0.093289</td>\n",
       "      <td>0.038182</td>\n",
       "      <td>-0.070590</td>\n",
       "      <td>-0.012732</td>\n",
       "      <td>0.024445</td>\n",
       "      <td>1.000000</td>\n",
       "      <td>0.049963</td>\n",
       "      <td>-0.004935</td>\n",
       "      <td>0.037109</td>\n",
       "      <td>-0.104615</td>\n",
       "      <td>-0.055711</td>\n",
       "      <td>-0.196439</td>\n",
       "      <td>0.079351</td>\n",
       "    </tr>\n",
       "    <tr>\n",
       "      <th>Platelets</th>\n",
       "      <td>-0.052354</td>\n",
       "      <td>-0.043786</td>\n",
       "      <td>0.024463</td>\n",
       "      <td>0.092193</td>\n",
       "      <td>0.072177</td>\n",
       "      <td>0.049963</td>\n",
       "      <td>1.000000</td>\n",
       "      <td>-0.041198</td>\n",
       "      <td>0.062125</td>\n",
       "      <td>-0.125120</td>\n",
       "      <td>0.028234</td>\n",
       "      <td>0.010514</td>\n",
       "      <td>-0.049139</td>\n",
       "    </tr>\n",
       "    <tr>\n",
       "      <th>Serum Creatinine</th>\n",
       "      <td>0.159187</td>\n",
       "      <td>0.052174</td>\n",
       "      <td>-0.016408</td>\n",
       "      <td>-0.046975</td>\n",
       "      <td>-0.011302</td>\n",
       "      <td>-0.004935</td>\n",
       "      <td>-0.041198</td>\n",
       "      <td>1.000000</td>\n",
       "      <td>-0.189095</td>\n",
       "      <td>0.006970</td>\n",
       "      <td>-0.027414</td>\n",
       "      <td>-0.149315</td>\n",
       "      <td>0.294278</td>\n",
       "    </tr>\n",
       "    <tr>\n",
       "      <th>Serum Sodium</th>\n",
       "      <td>-0.045966</td>\n",
       "      <td>0.041882</td>\n",
       "      <td>0.059550</td>\n",
       "      <td>-0.089551</td>\n",
       "      <td>0.175902</td>\n",
       "      <td>0.037109</td>\n",
       "      <td>0.062125</td>\n",
       "      <td>-0.189095</td>\n",
       "      <td>1.000000</td>\n",
       "      <td>-0.027566</td>\n",
       "      <td>0.004813</td>\n",
       "      <td>0.087640</td>\n",
       "      <td>-0.195204</td>\n",
       "    </tr>\n",
       "    <tr>\n",
       "      <th>Sex</th>\n",
       "      <td>0.065430</td>\n",
       "      <td>-0.094769</td>\n",
       "      <td>0.079791</td>\n",
       "      <td>-0.157730</td>\n",
       "      <td>-0.148386</td>\n",
       "      <td>-0.104615</td>\n",
       "      <td>-0.125120</td>\n",
       "      <td>0.006970</td>\n",
       "      <td>-0.027566</td>\n",
       "      <td>1.000000</td>\n",
       "      <td>0.445892</td>\n",
       "      <td>-0.015608</td>\n",
       "      <td>-0.004316</td>\n",
       "    </tr>\n",
       "    <tr>\n",
       "      <th>Smoking</th>\n",
       "      <td>0.018668</td>\n",
       "      <td>-0.107290</td>\n",
       "      <td>0.002421</td>\n",
       "      <td>-0.147173</td>\n",
       "      <td>-0.067315</td>\n",
       "      <td>-0.055711</td>\n",
       "      <td>0.028234</td>\n",
       "      <td>-0.027414</td>\n",
       "      <td>0.004813</td>\n",
       "      <td>0.445892</td>\n",
       "      <td>1.000000</td>\n",
       "      <td>-0.022839</td>\n",
       "      <td>-0.012623</td>\n",
       "    </tr>\n",
       "    <tr>\n",
       "      <th>Time</th>\n",
       "      <td>-0.224068</td>\n",
       "      <td>-0.141414</td>\n",
       "      <td>-0.009346</td>\n",
       "      <td>0.033726</td>\n",
       "      <td>0.041729</td>\n",
       "      <td>-0.196439</td>\n",
       "      <td>0.010514</td>\n",
       "      <td>-0.149315</td>\n",
       "      <td>0.087640</td>\n",
       "      <td>-0.015608</td>\n",
       "      <td>-0.022839</td>\n",
       "      <td>1.000000</td>\n",
       "      <td>-0.526964</td>\n",
       "    </tr>\n",
       "    <tr>\n",
       "      <th>Death Event</th>\n",
       "      <td>0.253729</td>\n",
       "      <td>0.066270</td>\n",
       "      <td>0.062728</td>\n",
       "      <td>-0.001943</td>\n",
       "      <td>-0.268603</td>\n",
       "      <td>0.079351</td>\n",
       "      <td>-0.049139</td>\n",
       "      <td>0.294278</td>\n",
       "      <td>-0.195204</td>\n",
       "      <td>-0.004316</td>\n",
       "      <td>-0.012623</td>\n",
       "      <td>-0.526964</td>\n",
       "      <td>1.000000</td>\n",
       "    </tr>\n",
       "  </tbody>\n",
       "</table>\n",
       "</div>"
      ],
      "text/plain": [
       "                               Age   Anaemia  Creatinine Phosphokinase  \\\n",
       "Age                       1.000000  0.088006                 -0.081584   \n",
       "Anaemia                   0.088006  1.000000                 -0.190741   \n",
       "Creatinine Phosphokinase -0.081584 -0.190741                  1.000000   \n",
       "Diabetes                 -0.101012 -0.012729                 -0.009639   \n",
       "Ejection Fraction         0.060098  0.031557                 -0.044080   \n",
       "HBP                       0.093289  0.038182                 -0.070590   \n",
       "Platelets                -0.052354 -0.043786                  0.024463   \n",
       "Serum Creatinine          0.159187  0.052174                 -0.016408   \n",
       "Serum Sodium             -0.045966  0.041882                  0.059550   \n",
       "Sex                       0.065430 -0.094769                  0.079791   \n",
       "Smoking                   0.018668 -0.107290                  0.002421   \n",
       "Time                     -0.224068 -0.141414                 -0.009346   \n",
       "Death Event               0.253729  0.066270                  0.062728   \n",
       "\n",
       "                          Diabetes  Ejection Fraction       HBP  Platelets  \\\n",
       "Age                      -0.101012           0.060098  0.093289  -0.052354   \n",
       "Anaemia                  -0.012729           0.031557  0.038182  -0.043786   \n",
       "Creatinine Phosphokinase -0.009639          -0.044080 -0.070590   0.024463   \n",
       "Diabetes                  1.000000          -0.004850 -0.012732   0.092193   \n",
       "Ejection Fraction        -0.004850           1.000000  0.024445   0.072177   \n",
       "HBP                      -0.012732           0.024445  1.000000   0.049963   \n",
       "Platelets                 0.092193           0.072177  0.049963   1.000000   \n",
       "Serum Creatinine         -0.046975          -0.011302 -0.004935  -0.041198   \n",
       "Serum Sodium             -0.089551           0.175902  0.037109   0.062125   \n",
       "Sex                      -0.157730          -0.148386 -0.104615  -0.125120   \n",
       "Smoking                  -0.147173          -0.067315 -0.055711   0.028234   \n",
       "Time                      0.033726           0.041729 -0.196439   0.010514   \n",
       "Death Event              -0.001943          -0.268603  0.079351  -0.049139   \n",
       "\n",
       "                          Serum Creatinine  Serum Sodium       Sex   Smoking  \\\n",
       "Age                               0.159187     -0.045966  0.065430  0.018668   \n",
       "Anaemia                           0.052174      0.041882 -0.094769 -0.107290   \n",
       "Creatinine Phosphokinase         -0.016408      0.059550  0.079791  0.002421   \n",
       "Diabetes                         -0.046975     -0.089551 -0.157730 -0.147173   \n",
       "Ejection Fraction                -0.011302      0.175902 -0.148386 -0.067315   \n",
       "HBP                              -0.004935      0.037109 -0.104615 -0.055711   \n",
       "Platelets                        -0.041198      0.062125 -0.125120  0.028234   \n",
       "Serum Creatinine                  1.000000     -0.189095  0.006970 -0.027414   \n",
       "Serum Sodium                     -0.189095      1.000000 -0.027566  0.004813   \n",
       "Sex                               0.006970     -0.027566  1.000000  0.445892   \n",
       "Smoking                          -0.027414      0.004813  0.445892  1.000000   \n",
       "Time                             -0.149315      0.087640 -0.015608 -0.022839   \n",
       "Death Event                       0.294278     -0.195204 -0.004316 -0.012623   \n",
       "\n",
       "                              Time  Death Event  \n",
       "Age                      -0.224068     0.253729  \n",
       "Anaemia                  -0.141414     0.066270  \n",
       "Creatinine Phosphokinase -0.009346     0.062728  \n",
       "Diabetes                  0.033726    -0.001943  \n",
       "Ejection Fraction         0.041729    -0.268603  \n",
       "HBP                      -0.196439     0.079351  \n",
       "Platelets                 0.010514    -0.049139  \n",
       "Serum Creatinine         -0.149315     0.294278  \n",
       "Serum Sodium              0.087640    -0.195204  \n",
       "Sex                      -0.015608    -0.004316  \n",
       "Smoking                  -0.022839    -0.012623  \n",
       "Time                      1.000000    -0.526964  \n",
       "Death Event              -0.526964     1.000000  "
      ]
     },
     "execution_count": 9,
     "metadata": {},
     "output_type": "execute_result"
    }
   ],
   "source": [
    "hf.corr()"
   ]
  },
  {
   "cell_type": "markdown",
   "id": "777f9e05",
   "metadata": {},
   "source": [
    "## *Visualizations*"
   ]
  },
  {
   "cell_type": "code",
   "execution_count": 43,
   "id": "2b14a6d8",
   "metadata": {},
   "outputs": [
    {
     "data": {
      "image/png": "[encoded data removed]",
      "text/plain": [
       "<Figure size 700x500 with 1 Axes>"
      ]
     },
     "metadata": {},
     "output_type": "display_data"
    }
   ],
   "source": [
    "plt.figure(figsize=(7,5))\n",
    "sns.histplot(x=\"Age\",data=hf,kde=True,binwidth=5,color=\"purple\")\n",
    "plt.xlabel(\"Age\")\n",
    "plt.title(\"Age Distribution\")\n",
    "plt.ylabel(\"Frequency\");"
   ]
  },
  {
   "cell_type": "markdown",
   "id": "cac9f2a2",
   "metadata": {},
   "source": [
    "The Top three age range of the patients are:\n",
    "\n",
    "60 - 65, 50 - 55, 65-70\n"
   ]
  },
  {
   "cell_type": "code",
   "execution_count": 23,
   "id": "48709597",
   "metadata": {},
   "outputs": [
    {
     "data": {
      "text/plain": [
       "'plt.figure(figsize=(7,5))\\nsns.histplot(x=\"Time\",data=hf,kde=True,binwidth=5,color=\"purple\")\\nplt.xlabel(\"Time\")\\nplt.title(\"Time Distribution\")\\nplt.ylabel(\"Frequency\");'"
      ]
     },
     "execution_count": 23,
     "metadata": {},
     "output_type": "execute_result"
    }
   ],
   "source": [
    "\"\"\"plt.figure(figsize=(7,5))\n",
    "sns.histplot(x=\"Time\",data=hf,kde=True,binwidth=5,color=\"purple\")\n",
    "plt.xlabel(\"Time\")\n",
    "plt.title(\"Time Distribution\")\n",
    "plt.ylabel(\"Frequency\");\"\"\""
   ]
  },
  {
   "cell_type": "code",
   "execution_count": 44,
   "id": "cd460ae9",
   "metadata": {},
   "outputs": [
    {
     "data": {
      "application/vnd.plotly.v1+json": {
       "config": {
        "plotlyServerURL": "https://plot.ly"
       },
       "data": [
        {
         "alignmentgroup": "True",
         "bingroup": "x",
         "hovertemplate": "Time=%{x}<br>count=%{y}<extra></extra>",
         "legendgroup": "",
         "marker": {
          "color": "#636efa",
          "pattern": {
           "shape": ""
          }
         },
         "name": "",
         "nbinsx": 15,
         "offsetgroup": "",
         "orientation": "v",
         "showlegend": false,
         "type": "histogram",
         "x": [
          4,
          6,
          7,
          7,
          8,
          8,
          10,
          10,
          10,
          10,
          10,
          10,
          11,
          11,
          12,
          13,
          14,
          14,
          15,
          15,
          16,
          20,
          20,
          22,
          23,
          23,
          24,
          26,
          26,
          26,
          27,
          28,
          28,
          29,
          29,
          30,
          30,
          30,
          30,
          30,
          31,
          32,
          33,
          33,
          33,
          35,
          38,
          40,
          41,
          42,
          43,
          43,
          43,
          44,
          45,
          50,
          54,
          54,
          55,
          59,
          60,
          60,
          60,
          61,
          63,
          64,
          65,
          65,
          66,
          67,
          68,
          71,
          72,
          72,
          73,
          73,
          74,
          74,
          74,
          74,
          75,
          76,
          77,
          78,
          78,
          79,
          79,
          79,
          79,
          79,
          80,
          80,
          82,
          82,
          83,
          83,
          83,
          85,
          85,
          86,
          87,
          87,
          87,
          87,
          87,
          88,
          88,
          88,
          88,
          88,
          90,
          90,
          90,
          90,
          91,
          91,
          94,
          94,
          94,
          95,
          95,
          95,
          95,
          95,
          96,
          97,
          100,
          104,
          104,
          105,
          106,
          107,
          107,
          107,
          107,
          107,
          107,
          108,
          108,
          108,
          109,
          109,
          109,
          110,
          111,
          112,
          112,
          113,
          113,
          115,
          115,
          117,
          118,
          119,
          120,
          120,
          120,
          120,
          121,
          121,
          121,
          121,
          123,
          126,
          129,
          130,
          134,
          135,
          140,
          145,
          145,
          146,
          146,
          146,
          146,
          146,
          147,
          147,
          147,
          147,
          148,
          150,
          154,
          162,
          170,
          171,
          172,
          172,
          172,
          174,
          174,
          174,
          175,
          180,
          180,
          180,
          185,
          186,
          186,
          186,
          186,
          186,
          186,
          187,
          187,
          187,
          187,
          187,
          187,
          187,
          188,
          192,
          192,
          193,
          194,
          195,
          196,
          196,
          197,
          197,
          198,
          200,
          201,
          201,
          205,
          205,
          205,
          206,
          207,
          207,
          207,
          208,
          209,
          209,
          209,
          209,
          209,
          210,
          210,
          211,
          212,
          212,
          212,
          213,
          213,
          213,
          214,
          214,
          214,
          214,
          214,
          215,
          215,
          215,
          215,
          216,
          220,
          230,
          230,
          231,
          233,
          233,
          235,
          237,
          237,
          240,
          241,
          244,
          244,
          244,
          244,
          244,
          245,
          245,
          245,
          245,
          245,
          246,
          246,
          246,
          247,
          250,
          250,
          250,
          250,
          250,
          250,
          250,
          256,
          256,
          257,
          258,
          258,
          270,
          270,
          271,
          278,
          280,
          285
         ],
         "xaxis": "x",
         "yaxis": "y"
        }
       ],
       "layout": {
        "bargap": 0.1,
        "barmode": "relative",
        "legend": {
         "tracegroupgap": 0
        },
        "margin": {
         "t": 60
        },
        "template": {
         "data": {
          "bar": [
           {
            "error_x": {
             "color": "#2a3f5f"
            },
            "error_y": {
             "color": "#2a3f5f"
            },
            "marker": {
             "line": {
              "color": "#E5ECF6",
              "width": 0.5
             },
             "pattern": {
              "fillmode": "overlay",
              "size": 10,
              "solidity": 0.2
             }
            },
            "type": "bar"
           }
          ],
          "barpolar": [
           {
            "marker": {
             "line": {
              "color": "#E5ECF6",
              "width": 0.5
             },
             "pattern": {
              "fillmode": "overlay",
              "size": 10,
              "solidity": 0.2
             }
            },
            "type": "barpolar"
           }
          ],
          "carpet": [
           {
            "aaxis": {
             "endlinecolor": "#2a3f5f",
             "gridcolor": "white",
             "linecolor": "white",
             "minorgridcolor": "white",
             "startlinecolor": "#2a3f5f"
            },
            "baxis": {
             "endlinecolor": "#2a3f5f",
             "gridcolor": "white",
             "linecolor": "white",
             "minorgridcolor": "white",
             "startlinecolor": "#2a3f5f"
            },
            "type": "carpet"
           }
          ],
          "choropleth": [
           {
            "colorbar": {
             "outlinewidth": 0,
             "ticks": ""
            },
            "type": "choropleth"
           }
          ],
          "contour": [
           {
            "colorbar": {
             "outlinewidth": 0,
             "ticks": ""
            },
            "colorscale": [
             [
              0,
              "#0d0887"
             ],
             [
              0.1111111111111111,
              "#46039f"
             ],
             [
              0.2222222222222222,
              "#7201a8"
             ],
             [
              0.3333333333333333,
              "#9c179e"
             ],
             [
              0.4444444444444444,
              "#bd3786"
             ],
             [
              0.5555555555555556,
              "#d8576b"
             ],
             [
              0.6666666666666666,
              "#ed7953"
             ],
             [
              0.7777777777777778,
              "#fb9f3a"
             ],
             [
              0.8888888888888888,
              "#fdca26"
             ],
             [
              1,
              "#f0f921"
             ]
            ],
            "type": "contour"
           }
          ],
          "contourcarpet": [
           {
            "colorbar": {
             "outlinewidth": 0,
             "ticks": ""
            },
            "type": "contourcarpet"
           }
          ],
          "heatmap": [
           {
            "colorbar": {
             "outlinewidth": 0,
             "ticks": ""
            },
            "colorscale": [
             [
              0,
              "#0d0887"
             ],
             [
              0.1111111111111111,
              "#46039f"
             ],
             [
              0.2222222222222222,
              "#7201a8"
             ],
             [
              0.3333333333333333,
              "#9c179e"
             ],
             [
              0.4444444444444444,
              "#bd3786"
             ],
             [
              0.5555555555555556,
              "#d8576b"
             ],
             [
              0.6666666666666666,
              "#ed7953"
             ],
             [
              0.7777777777777778,
              "#fb9f3a"
             ],
             [
              0.8888888888888888,
              "#fdca26"
             ],
             [
              1,
              "#f0f921"
             ]
            ],
            "type": "heatmap"
           }
          ],
          "heatmapgl": [
           {
            "colorbar": {
             "outlinewidth": 0,
             "ticks": ""
            },
            "colorscale": [
             [
              0,
              "#0d0887"
             ],
             [
              0.1111111111111111,
              "#46039f"
             ],
             [
              0.2222222222222222,
              "#7201a8"
             ],
             [
              0.3333333333333333,
              "#9c179e"
             ],
             [
              0.4444444444444444,
              "#bd3786"
             ],
             [
              0.5555555555555556,
              "#d8576b"
             ],
             [
              0.6666666666666666,
              "#ed7953"
             ],
             [
              0.7777777777777778,
              "#fb9f3a"
             ],
             [
              0.8888888888888888,
              "#fdca26"
             ],
             [
              1,
              "#f0f921"
             ]
            ],
            "type": "heatmapgl"
           }
          ],
          "histogram": [
           {
            "marker": {
             "pattern": {
              "fillmode": "overlay",
              "size": 10,
              "solidity": 0.2
             }
            },
            "type": "histogram"
           }
          ],
          "histogram2d": [
           {
            "colorbar": {
             "outlinewidth": 0,
             "ticks": ""
            },
            "colorscale": [
             [
              0,
              "#0d0887"
             ],
             [
              0.1111111111111111,
              "#46039f"
             ],
             [
              0.2222222222222222,
              "#7201a8"
             ],
             [
              0.3333333333333333,
              "#9c179e"
             ],
             [
              0.4444444444444444,
              "#bd3786"
             ],
             [
              0.5555555555555556,
              "#d8576b"
             ],
             [
              0.6666666666666666,
              "#ed7953"
             ],
             [
              0.7777777777777778,
              "#fb9f3a"
             ],
             [
              0.8888888888888888,
              "#fdca26"
             ],
             [
              1,
              "#f0f921"
             ]
            ],
            "type": "histogram2d"
           }
          ],
          "histogram2dcontour": [
           {
            "colorbar": {
             "outlinewidth": 0,
             "ticks": ""
            },
            "colorscale": [
             [
              0,
              "#0d0887"
             ],
             [
              0.1111111111111111,
              "#46039f"
             ],
             [
              0.2222222222222222,
              "#7201a8"
             ],
             [
              0.3333333333333333,
              "#9c179e"
             ],
             [
              0.4444444444444444,
              "#bd3786"
             ],
             [
              0.5555555555555556,
              "#d8576b"
             ],
             [
              0.6666666666666666,
              "#ed7953"
             ],
             [
              0.7777777777777778,
              "#fb9f3a"
             ],
             [
              0.8888888888888888,
              "#fdca26"
             ],
             [
              1,
              "#f0f921"
             ]
            ],
            "type": "histogram2dcontour"
           }
          ],
          "mesh3d": [
           {
            "colorbar": {
             "outlinewidth": 0,
             "ticks": ""
            },
            "type": "mesh3d"
           }
          ],
          "parcoords": [
           {
            "line": {
             "colorbar": {
              "outlinewidth": 0,
              "ticks": ""
             }
            },
            "type": "parcoords"
           }
          ],
          "pie": [
           {
            "automargin": true,
            "type": "pie"
           }
          ],
          "scatter": [
           {
            "fillpattern": {
             "fillmode": "overlay",
             "size": 10,
             "solidity": 0.2
            },
            "type": "scatter"
           }
          ],
          "scatter3d": [
           {
            "line": {
             "colorbar": {
              "outlinewidth": 0,
              "ticks": ""
             }
            },
            "marker": {
             "colorbar": {
              "outlinewidth": 0,
              "ticks": ""
             }
            },
            "type": "scatter3d"
           }
          ],
          "scattercarpet": [
           {
            "marker": {
             "colorbar": {
              "outlinewidth": 0,
              "ticks": ""
             }
            },
            "type": "scattercarpet"
           }
          ],
          "scattergeo": [
           {
            "marker": {
             "colorbar": {
              "outlinewidth": 0,
              "ticks": ""
             }
            },
            "type": "scattergeo"
           }
          ],
          "scattergl": [
           {
            "marker": {
             "colorbar": {
              "outlinewidth": 0,
              "ticks": ""
             }
            },
            "type": "scattergl"
           }
          ],
          "scattermapbox": [
           {
            "marker": {
             "colorbar": {
              "outlinewidth": 0,
              "ticks": ""
             }
            },
            "type": "scattermapbox"
           }
          ],
          "scatterpolar": [
           {
            "marker": {
             "colorbar": {
              "outlinewidth": 0,
              "ticks": ""
             }
            },
            "type": "scatterpolar"
           }
          ],
          "scatterpolargl": [
           {
            "marker": {
             "colorbar": {
              "outlinewidth": 0,
              "ticks": ""
             }
            },
            "type": "scatterpolargl"
           }
          ],
          "scatterternary": [
           {
            "marker": {
             "colorbar": {
              "outlinewidth": 0,
              "ticks": ""
             }
            },
            "type": "scatterternary"
           }
          ],
          "surface": [
           {
            "colorbar": {
             "outlinewidth": 0,
             "ticks": ""
            },
            "colorscale": [
             [
              0,
              "#0d0887"
             ],
             [
              0.1111111111111111,
              "#46039f"
             ],
             [
              0.2222222222222222,
              "#7201a8"
             ],
             [
              0.3333333333333333,
              "#9c179e"
             ],
             [
              0.4444444444444444,
              "#bd3786"
             ],
             [
              0.5555555555555556,
              "#d8576b"
             ],
             [
              0.6666666666666666,
              "#ed7953"
             ],
             [
              0.7777777777777778,
              "#fb9f3a"
             ],
             [
              0.8888888888888888,
              "#fdca26"
             ],
             [
              1,
              "#f0f921"
             ]
            ],
            "type": "surface"
           }
          ],
          "table": [
           {
            "cells": {
             "fill": {
              "color": "#EBF0F8"
             },
             "line": {
              "color": "white"
             }
            },
            "header": {
             "fill": {
              "color": "#C8D4E3"
             },
             "line": {
              "color": "white"
             }
            },
            "type": "table"
           }
          ]
         },
         "layout": {
          "annotationdefaults": {
           "arrowcolor": "#2a3f5f",
           "arrowhead": 0,
           "arrowwidth": 1
          },
          "autotypenumbers": "strict",
          "coloraxis": {
           "colorbar": {
            "outlinewidth": 0,
            "ticks": ""
           }
          },
          "colorscale": {
           "diverging": [
            [
             0,
             "#8e0152"
            ],
            [
             0.1,
             "#c51b7d"
            ],
            [
             0.2,
             "#de77ae"
            ],
            [
             0.3,
             "#f1b6da"
            ],
            [
             0.4,
             "#fde0ef"
            ],
            [
             0.5,
             "#f7f7f7"
            ],
            [
             0.6,
             "#e6f5d0"
            ],
            [
             0.7,
             "#b8e186"
            ],
            [
             0.8,
             "#7fbc41"
            ],
            [
             0.9,
             "#4d9221"
            ],
            [
             1,
             "#276419"
            ]
           ],
           "sequential": [
            [
             0,
             "#0d0887"
            ],
            [
             0.1111111111111111,
             "#46039f"
            ],
            [
             0.2222222222222222,
             "#7201a8"
            ],
            [
             0.3333333333333333,
             "#9c179e"
            ],
            [
             0.4444444444444444,
             "#bd3786"
            ],
            [
             0.5555555555555556,
             "#d8576b"
            ],
            [
             0.6666666666666666,
             "#ed7953"
            ],
            [
             0.7777777777777778,
             "#fb9f3a"
            ],
            [
             0.8888888888888888,
             "#fdca26"
            ],
            [
             1,
             "#f0f921"
            ]
           ],
           "sequentialminus": [
            [
             0,
             "#0d0887"
            ],
            [
             0.1111111111111111,
             "#46039f"
            ],
            [
             0.2222222222222222,
             "#7201a8"
            ],
            [
             0.3333333333333333,
             "#9c179e"
            ],
            [
             0.4444444444444444,
             "#bd3786"
            ],
            [
             0.5555555555555556,
             "#d8576b"
            ],
            [
             0.6666666666666666,
             "#ed7953"
            ],
            [
             0.7777777777777778,
             "#fb9f3a"
            ],
            [
             0.8888888888888888,
             "#fdca26"
            ],
            [
             1,
             "#f0f921"
            ]
           ]
          },
          "colorway": [
           "#636efa",
           "#EF553B",
           "#00cc96",
           "#ab63fa",
           "#FFA15A",
           "#19d3f3",
           "#FF6692",
           "#B6E880",
           "#FF97FF",
           "#FECB52"
          ],
          "font": {
           "color": "#2a3f5f"
          },
          "geo": {
           "bgcolor": "white",
           "lakecolor": "white",
           "landcolor": "#E5ECF6",
           "showlakes": true,
           "showland": true,
           "subunitcolor": "white"
          },
          "hoverlabel": {
           "align": "left"
          },
          "hovermode": "closest",
          "mapbox": {
           "style": "light"
          },
          "paper_bgcolor": "white",
          "plot_bgcolor": "#E5ECF6",
          "polar": {
           "angularaxis": {
            "gridcolor": "white",
            "linecolor": "white",
            "ticks": ""
           },
           "bgcolor": "#E5ECF6",
           "radialaxis": {
            "gridcolor": "white",
            "linecolor": "white",
            "ticks": ""
           }
          },
          "scene": {
           "xaxis": {
            "backgroundcolor": "#E5ECF6",
            "gridcolor": "white",
            "gridwidth": 2,
            "linecolor": "white",
            "showbackground": true,
            "ticks": "",
            "zerolinecolor": "white"
           },
           "yaxis": {
            "backgroundcolor": "#E5ECF6",
            "gridcolor": "white",
            "gridwidth": 2,
            "linecolor": "white",
            "showbackground": true,
            "ticks": "",
            "zerolinecolor": "white"
           },
           "zaxis": {
            "backgroundcolor": "#E5ECF6",
            "gridcolor": "white",
            "gridwidth": 2,
            "linecolor": "white",
            "showbackground": true,
            "ticks": "",
            "zerolinecolor": "white"
           }
          },
          "shapedefaults": {
           "line": {
            "color": "#2a3f5f"
           }
          },
          "ternary": {
           "aaxis": {
            "gridcolor": "white",
            "linecolor": "white",
            "ticks": ""
           },
           "baxis": {
            "gridcolor": "white",
            "linecolor": "white",
            "ticks": ""
           },
           "bgcolor": "#E5ECF6",
           "caxis": {
            "gridcolor": "white",
            "linecolor": "white",
            "ticks": ""
           }
          },
          "title": {
           "x": 0.05
          },
          "xaxis": {
           "automargin": true,
           "gridcolor": "white",
           "linecolor": "white",
           "ticks": "",
           "title": {
            "standoff": 15
           },
           "zerolinecolor": "white",
           "zerolinewidth": 2
          },
          "yaxis": {
           "automargin": true,
           "gridcolor": "white",
           "linecolor": "white",
           "ticks": "",
           "title": {
            "standoff": 15
           },
           "zerolinecolor": "white",
           "zerolinewidth": 2
          }
         }
        },
        "xaxis": {
         "anchor": "y",
         "domain": [
          0,
          1
         ],
         "title": {
          "text": "Time"
         }
        },
        "yaxis": {
         "anchor": "x",
         "domain": [
          0,
          1
         ],
         "title": {
          "text": "count"
         }
        }
       }
      },
      "text/html": [
       "<div>                            <div id=\"29d9bb61-4488-4fa5-ab71-bba7741d86ca\" class=\"plotly-graph-div\" style=\"height:525px; width:100%;\"></div>            <script type=\"text/javascript\">                require([\"plotly\"], function(Plotly) {                    window.PLOTLYENV=window.PLOTLYENV || {};                                    if (document.getElementById(\"29d9bb61-4488-4fa5-ab71-bba7741d86ca\")) {                    Plotly.newPlot(                        \"29d9bb61-4488-4fa5-ab71-bba7741d86ca\",                        [{\"alignmentgroup\":\"True\",\"bingroup\":\"x\",\"hovertemplate\":\"Time=%{x}<br>count=%{y}<extra></extra>\",\"legendgroup\":\"\",\"marker\":{\"color\":\"#636efa\",\"pattern\":{\"shape\":\"\"}},\"name\":\"\",\"nbinsx\":15,\"offsetgroup\":\"\",\"orientation\":\"v\",\"showlegend\":false,\"x\":[4,6,7,7,8,8,10,10,10,10,10,10,11,11,12,13,14,14,15,15,16,20,20,22,23,23,24,26,26,26,27,28,28,29,29,30,30,30,30,30,31,32,33,33,33,35,38,40,41,42,43,43,43,44,45,50,54,54,55,59,60,60,60,61,63,64,65,65,66,67,68,71,72,72,73,73,74,74,74,74,75,76,77,78,78,79,79,79,79,79,80,80,82,82,83,83,83,85,85,86,87,87,87,87,87,88,88,88,88,88,90,90,90,90,91,91,94,94,94,95,95,95,95,95,96,97,100,104,104,105,106,107,107,107,107,107,107,108,108,108,109,109,109,110,111,112,112,113,113,115,115,117,118,119,120,120,120,120,121,121,121,121,123,126,129,130,134,135,140,145,145,146,146,146,146,146,147,147,147,147,148,150,154,162,170,171,172,172,172,174,174,174,175,180,180,180,185,186,186,186,186,186,186,187,187,187,187,187,187,187,188,192,192,193,194,195,196,196,197,197,198,200,201,201,205,205,205,206,207,207,207,208,209,209,209,209,209,210,210,211,212,212,212,213,213,213,214,214,214,214,214,215,215,215,215,216,220,230,230,231,233,233,235,237,237,240,241,244,244,244,244,244,245,245,245,245,245,246,246,246,247,250,250,250,250,250,250,250,256,256,257,258,258,270,270,271,278,280,285],\"xaxis\":\"x\",\"yaxis\":\"y\",\"type\":\"histogram\"}],                        {\"template\":{\"data\":{\"histogram2dcontour\":[{\"type\":\"histogram2dcontour\",\"colorbar\":{\"outlinewidth\":0,\"ticks\":\"\"},\"colorscale\":[[0.0,\"#0d0887\"],[0.1111111111111111,\"#46039f\"],[0.2222222222222222,\"#7201a8\"],[0.3333333333333333,\"#9c179e\"],[0.4444444444444444,\"#bd3786\"],[0.5555555555555556,\"#d8576b\"],[0.6666666666666666,\"#ed7953\"],[0.7777777777777778,\"#fb9f3a\"],[0.8888888888888888,\"#fdca26\"],[1.0,\"#f0f921\"]]}],\"choropleth\":[{\"type\":\"choropleth\",\"colorbar\":{\"outlinewidth\":0,\"ticks\":\"\"}}],\"histogram2d\":[{\"type\":\"histogram2d\",\"colorbar\":{\"outlinewidth\":0,\"ticks\":\"\"},\"colorscale\":[[0.0,\"#0d0887\"],[0.1111111111111111,\"#46039f\"],[0.2222222222222222,\"#7201a8\"],[0.3333333333333333,\"#9c179e\"],[0.4444444444444444,\"#bd3786\"],[0.5555555555555556,\"#d8576b\"],[0.6666666666666666,\"#ed7953\"],[0.7777777777777778,\"#fb9f3a\"],[0.8888888888888888,\"#fdca26\"],[1.0,\"#f0f921\"]]}],\"heatmap\":[{\"type\":\"heatmap\",\"colorbar\":{\"outlinewidth\":0,\"ticks\":\"\"},\"colorscale\":[[0.0,\"#0d0887\"],[0.1111111111111111,\"#46039f\"],[0.2222222222222222,\"#7201a8\"],[0.3333333333333333,\"#9c179e\"],[0.4444444444444444,\"#bd3786\"],[0.5555555555555556,\"#d8576b\"],[0.6666666666666666,\"#ed7953\"],[0.7777777777777778,\"#fb9f3a\"],[0.8888888888888888,\"#fdca26\"],[1.0,\"#f0f921\"]]}],\"heatmapgl\":[{\"type\":\"heatmapgl\",\"colorbar\":{\"outlinewidth\":0,\"ticks\":\"\"},\"colorscale\":[[0.0,\"#0d0887\"],[0.1111111111111111,\"#46039f\"],[0.2222222222222222,\"#7201a8\"],[0.3333333333333333,\"#9c179e\"],[0.4444444444444444,\"#bd3786\"],[0.5555555555555556,\"#d8576b\"],[0.6666666666666666,\"#ed7953\"],[0.7777777777777778,\"#fb9f3a\"],[0.8888888888888888,\"#fdca26\"],[1.0,\"#f0f921\"]]}],\"contourcarpet\":[{\"type\":\"contourcarpet\",\"colorbar\":{\"outlinewidth\":0,\"ticks\":\"\"}}],\"contour\":[{\"type\":\"contour\",\"colorbar\":{\"outlinewidth\":0,\"ticks\":\"\"},\"colorscale\":[[0.0,\"#0d0887\"],[0.1111111111111111,\"#46039f\"],[0.2222222222222222,\"#7201a8\"],[0.3333333333333333,\"#9c179e\"],[0.4444444444444444,\"#bd3786\"],[0.5555555555555556,\"#d8576b\"],[0.6666666666666666,\"#ed7953\"],[0.7777777777777778,\"#fb9f3a\"],[0.8888888888888888,\"#fdca26\"],[1.0,\"#f0f921\"]]}],\"surface\":[{\"type\":\"surface\",\"colorbar\":{\"outlinewidth\":0,\"ticks\":\"\"},\"colorscale\":[[0.0,\"#0d0887\"],[0.1111111111111111,\"#46039f\"],[0.2222222222222222,\"#7201a8\"],[0.3333333333333333,\"#9c179e\"],[0.4444444444444444,\"#bd3786\"],[0.5555555555555556,\"#d8576b\"],[0.6666666666666666,\"#ed7953\"],[0.7777777777777778,\"#fb9f3a\"],[0.8888888888888888,\"#fdca26\"],[1.0,\"#f0f921\"]]}],\"mesh3d\":[{\"type\":\"mesh3d\",\"colorbar\":{\"outlinewidth\":0,\"ticks\":\"\"}}],\"scatter\":[{\"fillpattern\":{\"fillmode\":\"overlay\",\"size\":10,\"solidity\":0.2},\"type\":\"scatter\"}],\"parcoords\":[{\"type\":\"parcoords\",\"line\":{\"colorbar\":{\"outlinewidth\":0,\"ticks\":\"\"}}}],\"scatterpolargl\":[{\"type\":\"scatterpolargl\",\"marker\":{\"colorbar\":{\"outlinewidth\":0,\"ticks\":\"\"}}}],\"bar\":[{\"error_x\":{\"color\":\"#2a3f5f\"},\"error_y\":{\"color\":\"#2a3f5f\"},\"marker\":{\"line\":{\"color\":\"#E5ECF6\",\"width\":0.5},\"pattern\":{\"fillmode\":\"overlay\",\"size\":10,\"solidity\":0.2}},\"type\":\"bar\"}],\"scattergeo\":[{\"type\":\"scattergeo\",\"marker\":{\"colorbar\":{\"outlinewidth\":0,\"ticks\":\"\"}}}],\"scatterpolar\":[{\"type\":\"scatterpolar\",\"marker\":{\"colorbar\":{\"outlinewidth\":0,\"ticks\":\"\"}}}],\"histogram\":[{\"marker\":{\"pattern\":{\"fillmode\":\"overlay\",\"size\":10,\"solidity\":0.2}},\"type\":\"histogram\"}],\"scattergl\":[{\"type\":\"scattergl\",\"marker\":{\"colorbar\":{\"outlinewidth\":0,\"ticks\":\"\"}}}],\"scatter3d\":[{\"type\":\"scatter3d\",\"line\":{\"colorbar\":{\"outlinewidth\":0,\"ticks\":\"\"}},\"marker\":{\"colorbar\":{\"outlinewidth\":0,\"ticks\":\"\"}}}],\"scattermapbox\":[{\"type\":\"scattermapbox\",\"marker\":{\"colorbar\":{\"outlinewidth\":0,\"ticks\":\"\"}}}],\"scatterternary\":[{\"type\":\"scatterternary\",\"marker\":{\"colorbar\":{\"outlinewidth\":0,\"ticks\":\"\"}}}],\"scattercarpet\":[{\"type\":\"scattercarpet\",\"marker\":{\"colorbar\":{\"outlinewidth\":0,\"ticks\":\"\"}}}],\"carpet\":[{\"aaxis\":{\"endlinecolor\":\"#2a3f5f\",\"gridcolor\":\"white\",\"linecolor\":\"white\",\"minorgridcolor\":\"white\",\"startlinecolor\":\"#2a3f5f\"},\"baxis\":{\"endlinecolor\":\"#2a3f5f\",\"gridcolor\":\"white\",\"linecolor\":\"white\",\"minorgridcolor\":\"white\",\"startlinecolor\":\"#2a3f5f\"},\"type\":\"carpet\"}],\"table\":[{\"cells\":{\"fill\":{\"color\":\"#EBF0F8\"},\"line\":{\"color\":\"white\"}},\"header\":{\"fill\":{\"color\":\"#C8D4E3\"},\"line\":{\"color\":\"white\"}},\"type\":\"table\"}],\"barpolar\":[{\"marker\":{\"line\":{\"color\":\"#E5ECF6\",\"width\":0.5},\"pattern\":{\"fillmode\":\"overlay\",\"size\":10,\"solidity\":0.2}},\"type\":\"barpolar\"}],\"pie\":[{\"automargin\":true,\"type\":\"pie\"}]},\"layout\":{\"autotypenumbers\":\"strict\",\"colorway\":[\"#636efa\",\"#EF553B\",\"#00cc96\",\"#ab63fa\",\"#FFA15A\",\"#19d3f3\",\"#FF6692\",\"#B6E880\",\"#FF97FF\",\"#FECB52\"],\"font\":{\"color\":\"#2a3f5f\"},\"hovermode\":\"closest\",\"hoverlabel\":{\"align\":\"left\"},\"paper_bgcolor\":\"white\",\"plot_bgcolor\":\"#E5ECF6\",\"polar\":{\"bgcolor\":\"#E5ECF6\",\"angularaxis\":{\"gridcolor\":\"white\",\"linecolor\":\"white\",\"ticks\":\"\"},\"radialaxis\":{\"gridcolor\":\"white\",\"linecolor\":\"white\",\"ticks\":\"\"}},\"ternary\":{\"bgcolor\":\"#E5ECF6\",\"aaxis\":{\"gridcolor\":\"white\",\"linecolor\":\"white\",\"ticks\":\"\"},\"baxis\":{\"gridcolor\":\"white\",\"linecolor\":\"white\",\"ticks\":\"\"},\"caxis\":{\"gridcolor\":\"white\",\"linecolor\":\"white\",\"ticks\":\"\"}},\"coloraxis\":{\"colorbar\":{\"outlinewidth\":0,\"ticks\":\"\"}},\"colorscale\":{\"sequential\":[[0.0,\"#0d0887\"],[0.1111111111111111,\"#46039f\"],[0.2222222222222222,\"#7201a8\"],[0.3333333333333333,\"#9c179e\"],[0.4444444444444444,\"#bd3786\"],[0.5555555555555556,\"#d8576b\"],[0.6666666666666666,\"#ed7953\"],[0.7777777777777778,\"#fb9f3a\"],[0.8888888888888888,\"#fdca26\"],[1.0,\"#f0f921\"]],\"sequentialminus\":[[0.0,\"#0d0887\"],[0.1111111111111111,\"#46039f\"],[0.2222222222222222,\"#7201a8\"],[0.3333333333333333,\"#9c179e\"],[0.4444444444444444,\"#bd3786\"],[0.5555555555555556,\"#d8576b\"],[0.6666666666666666,\"#ed7953\"],[0.7777777777777778,\"#fb9f3a\"],[0.8888888888888888,\"#fdca26\"],[1.0,\"#f0f921\"]],\"diverging\":[[0,\"#8e0152\"],[0.1,\"#c51b7d\"],[0.2,\"#de77ae\"],[0.3,\"#f1b6da\"],[0.4,\"#fde0ef\"],[0.5,\"#f7f7f7\"],[0.6,\"#e6f5d0\"],[0.7,\"#b8e186\"],[0.8,\"#7fbc41\"],[0.9,\"#4d9221\"],[1,\"#276419\"]]},\"xaxis\":{\"gridcolor\":\"white\",\"linecolor\":\"white\",\"ticks\":\"\",\"title\":{\"standoff\":15},\"zerolinecolor\":\"white\",\"automargin\":true,\"zerolinewidth\":2},\"yaxis\":{\"gridcolor\":\"white\",\"linecolor\":\"white\",\"ticks\":\"\",\"title\":{\"standoff\":15},\"zerolinecolor\":\"white\",\"automargin\":true,\"zerolinewidth\":2},\"scene\":{\"xaxis\":{\"backgroundcolor\":\"#E5ECF6\",\"gridcolor\":\"white\",\"linecolor\":\"white\",\"showbackground\":true,\"ticks\":\"\",\"zerolinecolor\":\"white\",\"gridwidth\":2},\"yaxis\":{\"backgroundcolor\":\"#E5ECF6\",\"gridcolor\":\"white\",\"linecolor\":\"white\",\"showbackground\":true,\"ticks\":\"\",\"zerolinecolor\":\"white\",\"gridwidth\":2},\"zaxis\":{\"backgroundcolor\":\"#E5ECF6\",\"gridcolor\":\"white\",\"linecolor\":\"white\",\"showbackground\":true,\"ticks\":\"\",\"zerolinecolor\":\"white\",\"gridwidth\":2}},\"shapedefaults\":{\"line\":{\"color\":\"#2a3f5f\"}},\"annotationdefaults\":{\"arrowcolor\":\"#2a3f5f\",\"arrowhead\":0,\"arrowwidth\":1},\"geo\":{\"bgcolor\":\"white\",\"landcolor\":\"#E5ECF6\",\"subunitcolor\":\"white\",\"showland\":true,\"showlakes\":true,\"lakecolor\":\"white\"},\"title\":{\"x\":0.05},\"mapbox\":{\"style\":\"light\"}}},\"xaxis\":{\"anchor\":\"y\",\"domain\":[0.0,1.0],\"title\":{\"text\":\"Time\"}},\"yaxis\":{\"anchor\":\"x\",\"domain\":[0.0,1.0],\"title\":{\"text\":\"count\"}},\"legend\":{\"tracegroupgap\":0},\"margin\":{\"t\":60},\"barmode\":\"relative\",\"bargap\":0.1},                        {\"responsive\": true}                    ).then(function(){\n",
       "                            \n",
       "var gd = document.getElementById('29d9bb61-4488-4fa5-ab71-bba7741d86ca');\n",
       "var x = new MutationObserver(function (mutations, observer) {{\n",
       "        var display = window.getComputedStyle(gd).display;\n",
       "        if (!display || display === 'none') {{\n",
       "            console.log([gd, 'removed!']);\n",
       "            Plotly.purge(gd);\n",
       "            observer.disconnect();\n",
       "        }}\n",
       "}});\n",
       "\n",
       "// Listen for the removal of the full notebook cells\n",
       "var notebookContainer = gd.closest('#notebook-container');\n",
       "if (notebookContainer) {{\n",
       "    x.observe(notebookContainer, {childList: true});\n",
       "}}\n",
       "\n",
       "// Listen for the clearing of the current output cell\n",
       "var outputEl = gd.closest('.output');\n",
       "if (outputEl) {{\n",
       "    x.observe(outputEl, {childList: true});\n",
       "}}\n",
       "\n",
       "                        })                };                });            </script>        </div>"
      ]
     },
     "metadata": {},
     "output_type": "display_data"
    }
   ],
   "source": [
    "fig = px.histogram(hf, x=\"Time\",nbins=15)\n",
    "fig.update_layout(bargap=0.1)\n",
    "fig.show()"
   ]
  },
  {
   "cell_type": "code",
   "execution_count": 55,
   "id": "bc33d79e",
   "metadata": {},
   "outputs": [
    {
     "data": {
      "application/vnd.plotly.v1+json": {
       "config": {
        "plotlyServerURL": "https://plot.ly"
       },
       "data": [
        {
         "alignmentgroup": "True",
         "bingroup": "x",
         "histfunc": "sum",
         "hovertemplate": "Sex=%{x}<br>Smoking=0<br>sum of Age=%{y}<extra></extra>",
         "legendgroup": "1, 0",
         "marker": {
          "color": "#636efa",
          "pattern": {
           "shape": ""
          }
         },
         "name": "1, 0",
         "offsetgroup": "1, 0",
         "orientation": "v",
         "showlegend": true,
         "type": "histogram",
         "x": [
          1,
          1,
          1,
          1,
          1,
          1,
          1,
          1,
          1,
          1,
          1,
          1,
          1,
          1,
          1,
          1,
          1,
          1,
          1,
          1,
          1,
          1,
          1,
          1,
          1,
          1,
          1,
          1,
          1,
          1,
          1,
          1,
          1,
          1,
          1,
          1,
          1,
          1,
          1,
          1,
          1,
          1,
          1,
          1,
          1,
          1,
          1,
          1,
          1,
          1,
          1,
          1,
          1,
          1,
          1,
          1,
          1,
          1,
          1,
          1,
          1,
          1,
          1,
          1,
          1,
          1,
          1,
          1,
          1,
          1,
          1,
          1,
          1,
          1,
          1,
          1,
          1,
          1,
          1,
          1,
          1,
          1,
          1,
          1,
          1,
          1,
          1,
          1,
          1,
          1,
          1,
          1,
          1,
          1,
          1,
          1,
          1,
          1,
          1,
          1,
          1,
          1
         ],
         "xaxis": "x",
         "y": [
          75,
          55,
          50,
          75,
          45,
          50,
          82,
          87,
          45,
          53,
          58,
          94,
          85,
          65,
          69,
          90,
          60,
          72,
          51,
          80,
          68,
          95,
          45,
          45,
          65,
          42,
          79,
          51,
          55,
          65,
          44,
          57,
          60,
          60,
          58,
          63,
          65,
          75,
          55,
          45,
          50,
          60,
          60,
          53,
          60,
          75,
          68,
          50,
          80,
          64,
          75,
          60,
          62,
          60,
          85,
          66,
          45,
          59,
          50,
          63,
          40,
          75,
          60.667,
          80,
          50,
          45,
          77,
          63,
          45,
          70,
          85,
          65,
          73,
          68,
          73,
          47,
          58,
          55,
          40,
          77,
          75,
          70,
          54,
          61,
          55,
          64,
          50,
          53,
          58,
          45,
          55,
          65,
          61,
          56,
          40,
          42,
          70,
          70,
          50,
          55,
          60,
          60
         ],
         "yaxis": "y"
        },
        {
         "alignmentgroup": "True",
         "bingroup": "x",
         "histfunc": "sum",
         "hovertemplate": "Sex=%{x}<br>Smoking=1<br>sum of Age=%{y}<extra></extra>",
         "legendgroup": "1, 1",
         "marker": {
          "color": "#636efa",
          "pattern": {
           "shape": "/"
          }
         },
         "name": "1, 1",
         "offsetgroup": "1, 1",
         "orientation": "v",
         "showlegend": true,
         "type": "histogram",
         "x": [
          1,
          1,
          1,
          1,
          1,
          1,
          1,
          1,
          1,
          1,
          1,
          1,
          1,
          1,
          1,
          1,
          1,
          1,
          1,
          1,
          1,
          1,
          1,
          1,
          1,
          1,
          1,
          1,
          1,
          1,
          1,
          1,
          1,
          1,
          1,
          1,
          1,
          1,
          1,
          1,
          1,
          1,
          1,
          1,
          1,
          1,
          1,
          1,
          1,
          1,
          1,
          1,
          1,
          1,
          1,
          1,
          1,
          1,
          1,
          1,
          1,
          1,
          1,
          1,
          1,
          1,
          1,
          1,
          1,
          1,
          1,
          1,
          1,
          1,
          1,
          1,
          1,
          1,
          1,
          1,
          1,
          1,
          1,
          1,
          1,
          1,
          1,
          1,
          1,
          1,
          1,
          1
         ],
         "xaxis": "x",
         "y": [
          65,
          90,
          60,
          80,
          75,
          62,
          68,
          80,
          70,
          82,
          70,
          70,
          50,
          60,
          70,
          60,
          49,
          72,
          55,
          60,
          72,
          41,
          58,
          85,
          65,
          69,
          60,
          75,
          67,
          70,
          80,
          42,
          63,
          45,
          85,
          55,
          60,
          61,
          53,
          63,
          81,
          72,
          50,
          52,
          50,
          50,
          50,
          59,
          45,
          63,
          53,
          51,
          52,
          70,
          65,
          60,
          69,
          55,
          59,
          65,
          58,
          73,
          60,
          60,
          78,
          70,
          50,
          78,
          65,
          42,
          58,
          70,
          53,
          53,
          55,
          65,
          40,
          40,
          52,
          53,
          50,
          55,
          44,
          60,
          70,
          42,
          65,
          52,
          63,
          62,
          45,
          50
         ],
         "yaxis": "y"
        },
        {
         "alignmentgroup": "True",
         "bingroup": "x",
         "histfunc": "sum",
         "hovertemplate": "Sex=%{x}<br>Smoking=0<br>sum of Age=%{y}<extra></extra>",
         "legendgroup": "0, 0",
         "marker": {
          "color": "#EF553B",
          "pattern": {
           "shape": ""
          }
         },
         "name": "0, 0",
         "offsetgroup": "0, 0",
         "orientation": "v",
         "showlegend": true,
         "type": "histogram",
         "x": [
          0,
          0,
          0,
          0,
          0,
          0,
          0,
          0,
          0,
          0,
          0,
          0,
          0,
          0,
          0,
          0,
          0,
          0,
          0,
          0,
          0,
          0,
          0,
          0,
          0,
          0,
          0,
          0,
          0,
          0,
          0,
          0,
          0,
          0,
          0,
          0,
          0,
          0,
          0,
          0,
          0,
          0,
          0,
          0,
          0,
          0,
          0,
          0,
          0,
          0,
          0,
          0,
          0,
          0,
          0,
          0,
          0,
          0,
          0,
          0,
          0,
          0,
          0,
          0,
          0,
          0,
          0,
          0,
          0,
          0,
          0,
          0,
          0,
          0,
          0,
          0,
          0,
          0,
          0,
          0,
          0,
          0,
          0,
          0,
          0,
          0,
          0,
          0,
          0,
          0,
          0,
          0,
          0,
          0,
          0,
          0,
          0,
          0,
          0,
          0,
          0
         ],
         "xaxis": "x",
         "y": [
          65,
          65,
          49,
          70,
          48,
          65,
          65,
          75,
          95,
          50,
          50,
          82,
          60,
          60,
          57,
          53,
          60,
          70,
          50,
          45,
          42,
          70,
          55,
          70,
          60,
          59,
          42,
          58,
          70,
          60,
          63,
          60,
          70,
          58,
          60,
          85,
          65,
          86,
          66,
          60,
          60,
          43,
          46,
          58,
          46,
          65,
          62,
          46,
          50,
          61,
          72,
          65,
          52,
          50,
          80,
          65,
          70,
          49,
          50,
          60,
          60.667,
          40,
          64,
          45,
          65,
          50,
          50,
          40,
          60,
          49,
          48,
          70,
          54,
          55,
          75,
          65,
          72,
          60,
          65,
          70,
          73,
          53,
          50,
          55,
          70,
          65,
          62,
          68,
          45,
          51,
          67,
          45,
          70,
          50,
          55,
          45,
          65,
          90,
          45,
          55,
          45
         ],
         "yaxis": "y"
        },
        {
         "alignmentgroup": "True",
         "bingroup": "x",
         "histfunc": "sum",
         "hovertemplate": "Sex=%{x}<br>Smoking=1<br>sum of Age=%{y}<extra></extra>",
         "legendgroup": "0, 1",
         "marker": {
          "color": "#EF553B",
          "pattern": {
           "shape": "/"
          }
         },
         "name": "0, 1",
         "offsetgroup": "0, 1",
         "orientation": "v",
         "showlegend": true,
         "type": "histogram",
         "x": [
          0,
          0,
          0,
          0
         ],
         "xaxis": "x",
         "y": [
          50,
          60,
          70,
          72
         ],
         "yaxis": "y"
        }
       ],
       "layout": {
        "barmode": "relative",
        "legend": {
         "title": {
          "text": "Sex, Smoking"
         },
         "tracegroupgap": 0
        },
        "margin": {
         "t": 60
        },
        "template": {
         "data": {
          "bar": [
           {
            "error_x": {
             "color": "#2a3f5f"
            },
            "error_y": {
             "color": "#2a3f5f"
            },
            "marker": {
             "line": {
              "color": "#E5ECF6",
              "width": 0.5
             },
             "pattern": {
              "fillmode": "overlay",
              "size": 10,
              "solidity": 0.2
             }
            },
            "type": "bar"
           }
          ],
          "barpolar": [
           {
            "marker": {
             "line": {
              "color": "#E5ECF6",
              "width": 0.5
             },
             "pattern": {
              "fillmode": "overlay",
              "size": 10,
              "solidity": 0.2
             }
            },
            "type": "barpolar"
           }
          ],
          "carpet": [
           {
            "aaxis": {
             "endlinecolor": "#2a3f5f",
             "gridcolor": "white",
             "linecolor": "white",
             "minorgridcolor": "white",
             "startlinecolor": "#2a3f5f"
            },
            "baxis": {
             "endlinecolor": "#2a3f5f",
             "gridcolor": "white",
             "linecolor": "white",
             "minorgridcolor": "white",
             "startlinecolor": "#2a3f5f"
            },
            "type": "carpet"
           }
          ],
          "choropleth": [
           {
            "colorbar": {
             "outlinewidth": 0,
             "ticks": ""
            },
            "type": "choropleth"
           }
          ],
          "contour": [
           {
            "colorbar": {
             "outlinewidth": 0,
             "ticks": ""
            },
            "colorscale": [
             [
              0,
              "#0d0887"
             ],
             [
              0.1111111111111111,
              "#46039f"
             ],
             [
              0.2222222222222222,
              "#7201a8"
             ],
             [
              0.3333333333333333,
              "#9c179e"
             ],
             [
              0.4444444444444444,
              "#bd3786"
             ],
             [
              0.5555555555555556,
              "#d8576b"
             ],
             [
              0.6666666666666666,
              "#ed7953"
             ],
             [
              0.7777777777777778,
              "#fb9f3a"
             ],
             [
              0.8888888888888888,
              "#fdca26"
             ],
             [
              1,
              "#f0f921"
             ]
            ],
            "type": "contour"
           }
          ],
          "contourcarpet": [
           {
            "colorbar": {
             "outlinewidth": 0,
             "ticks": ""
            },
            "type": "contourcarpet"
           }
          ],
          "heatmap": [
           {
            "colorbar": {
             "outlinewidth": 0,
             "ticks": ""
            },
            "colorscale": [
             [
              0,
              "#0d0887"
             ],
             [
              0.1111111111111111,
              "#46039f"
             ],
             [
              0.2222222222222222,
              "#7201a8"
             ],
             [
              0.3333333333333333,
              "#9c179e"
             ],
             [
              0.4444444444444444,
              "#bd3786"
             ],
             [
              0.5555555555555556,
              "#d8576b"
             ],
             [
              0.6666666666666666,
              "#ed7953"
             ],
             [
              0.7777777777777778,
              "#fb9f3a"
             ],
             [
              0.8888888888888888,
              "#fdca26"
             ],
             [
              1,
              "#f0f921"
             ]
            ],
            "type": "heatmap"
           }
          ],
          "heatmapgl": [
           {
            "colorbar": {
             "outlinewidth": 0,
             "ticks": ""
            },
            "colorscale": [
             [
              0,
              "#0d0887"
             ],
             [
              0.1111111111111111,
              "#46039f"
             ],
             [
              0.2222222222222222,
              "#7201a8"
             ],
             [
              0.3333333333333333,
              "#9c179e"
             ],
             [
              0.4444444444444444,
              "#bd3786"
             ],
             [
              0.5555555555555556,
              "#d8576b"
             ],
             [
              0.6666666666666666,
              "#ed7953"
             ],
             [
              0.7777777777777778,
              "#fb9f3a"
             ],
             [
              0.8888888888888888,
              "#fdca26"
             ],
             [
              1,
              "#f0f921"
             ]
            ],
            "type": "heatmapgl"
           }
          ],
          "histogram": [
           {
            "marker": {
             "pattern": {
              "fillmode": "overlay",
              "size": 10,
              "solidity": 0.2
             }
            },
            "type": "histogram"
           }
          ],
          "histogram2d": [
           {
            "colorbar": {
             "outlinewidth": 0,
             "ticks": ""
            },
            "colorscale": [
             [
              0,
              "#0d0887"
             ],
             [
              0.1111111111111111,
              "#46039f"
             ],
             [
              0.2222222222222222,
              "#7201a8"
             ],
             [
              0.3333333333333333,
              "#9c179e"
             ],
             [
              0.4444444444444444,
              "#bd3786"
             ],
             [
              0.5555555555555556,
              "#d8576b"
             ],
             [
              0.6666666666666666,
              "#ed7953"
             ],
             [
              0.7777777777777778,
              "#fb9f3a"
             ],
             [
              0.8888888888888888,
              "#fdca26"
             ],
             [
              1,
              "#f0f921"
             ]
            ],
            "type": "histogram2d"
           }
          ],
          "histogram2dcontour": [
           {
            "colorbar": {
             "outlinewidth": 0,
             "ticks": ""
            },
            "colorscale": [
             [
              0,
              "#0d0887"
             ],
             [
              0.1111111111111111,
              "#46039f"
             ],
             [
              0.2222222222222222,
              "#7201a8"
             ],
             [
              0.3333333333333333,
              "#9c179e"
             ],
             [
              0.4444444444444444,
              "#bd3786"
             ],
             [
              0.5555555555555556,
              "#d8576b"
             ],
             [
              0.6666666666666666,
              "#ed7953"
             ],
             [
              0.7777777777777778,
              "#fb9f3a"
             ],
             [
              0.8888888888888888,
              "#fdca26"
             ],
             [
              1,
              "#f0f921"
             ]
            ],
            "type": "histogram2dcontour"
           }
          ],
          "mesh3d": [
           {
            "colorbar": {
             "outlinewidth": 0,
             "ticks": ""
            },
            "type": "mesh3d"
           }
          ],
          "parcoords": [
           {
            "line": {
             "colorbar": {
              "outlinewidth": 0,
              "ticks": ""
             }
            },
            "type": "parcoords"
           }
          ],
          "pie": [
           {
            "automargin": true,
            "type": "pie"
           }
          ],
          "scatter": [
           {
            "fillpattern": {
             "fillmode": "overlay",
             "size": 10,
             "solidity": 0.2
            },
            "type": "scatter"
           }
          ],
          "scatter3d": [
           {
            "line": {
             "colorbar": {
              "outlinewidth": 0,
              "ticks": ""
             }
            },
            "marker": {
             "colorbar": {
              "outlinewidth": 0,
              "ticks": ""
             }
            },
            "type": "scatter3d"
           }
          ],
          "scattercarpet": [
           {
            "marker": {
             "colorbar": {
              "outlinewidth": 0,
              "ticks": ""
             }
            },
            "type": "scattercarpet"
           }
          ],
          "scattergeo": [
           {
            "marker": {
             "colorbar": {
              "outlinewidth": 0,
              "ticks": ""
             }
            },
            "type": "scattergeo"
           }
          ],
          "scattergl": [
           {
            "marker": {
             "colorbar": {
              "outlinewidth": 0,
              "ticks": ""
             }
            },
            "type": "scattergl"
           }
          ],
          "scattermapbox": [
           {
            "marker": {
             "colorbar": {
              "outlinewidth": 0,
              "ticks": ""
             }
            },
            "type": "scattermapbox"
           }
          ],
          "scatterpolar": [
           {
            "marker": {
             "colorbar": {
              "outlinewidth": 0,
              "ticks": ""
             }
            },
            "type": "scatterpolar"
           }
          ],
          "scatterpolargl": [
           {
            "marker": {
             "colorbar": {
              "outlinewidth": 0,
              "ticks": ""
             }
            },
            "type": "scatterpolargl"
           }
          ],
          "scatterternary": [
           {
            "marker": {
             "colorbar": {
              "outlinewidth": 0,
              "ticks": ""
             }
            },
            "type": "scatterternary"
           }
          ],
          "surface": [
           {
            "colorbar": {
             "outlinewidth": 0,
             "ticks": ""
            },
            "colorscale": [
             [
              0,
              "#0d0887"
             ],
             [
              0.1111111111111111,
              "#46039f"
             ],
             [
              0.2222222222222222,
              "#7201a8"
             ],
             [
              0.3333333333333333,
              "#9c179e"
             ],
             [
              0.4444444444444444,
              "#bd3786"
             ],
             [
              0.5555555555555556,
              "#d8576b"
             ],
             [
              0.6666666666666666,
              "#ed7953"
             ],
             [
              0.7777777777777778,
              "#fb9f3a"
             ],
             [
              0.8888888888888888,
              "#fdca26"
             ],
             [
              1,
              "#f0f921"
             ]
            ],
            "type": "surface"
           }
          ],
          "table": [
           {
            "cells": {
             "fill": {
              "color": "#EBF0F8"
             },
             "line": {
              "color": "white"
             }
            },
            "header": {
             "fill": {
              "color": "#C8D4E3"
             },
             "line": {
              "color": "white"
             }
            },
            "type": "table"
           }
          ]
         },
         "layout": {
          "annotationdefaults": {
           "arrowcolor": "#2a3f5f",
           "arrowhead": 0,
           "arrowwidth": 1
          },
          "autotypenumbers": "strict",
          "coloraxis": {
           "colorbar": {
            "outlinewidth": 0,
            "ticks": ""
           }
          },
          "colorscale": {
           "diverging": [
            [
             0,
             "#8e0152"
            ],
            [
             0.1,
             "#c51b7d"
            ],
            [
             0.2,
             "#de77ae"
            ],
            [
             0.3,
             "#f1b6da"
            ],
            [
             0.4,
             "#fde0ef"
            ],
            [
             0.5,
             "#f7f7f7"
            ],
            [
             0.6,
             "#e6f5d0"
            ],
            [
             0.7,
             "#b8e186"
            ],
            [
             0.8,
             "#7fbc41"
            ],
            [
             0.9,
             "#4d9221"
            ],
            [
             1,
             "#276419"
            ]
           ],
           "sequential": [
            [
             0,
             "#0d0887"
            ],
            [
             0.1111111111111111,
             "#46039f"
            ],
            [
             0.2222222222222222,
             "#7201a8"
            ],
            [
             0.3333333333333333,
             "#9c179e"
            ],
            [
             0.4444444444444444,
             "#bd3786"
            ],
            [
             0.5555555555555556,
             "#d8576b"
            ],
            [
             0.6666666666666666,
             "#ed7953"
            ],
            [
             0.7777777777777778,
             "#fb9f3a"
            ],
            [
             0.8888888888888888,
             "#fdca26"
            ],
            [
             1,
             "#f0f921"
            ]
           ],
           "sequentialminus": [
            [
             0,
             "#0d0887"
            ],
            [
             0.1111111111111111,
             "#46039f"
            ],
            [
             0.2222222222222222,
             "#7201a8"
            ],
            [
             0.3333333333333333,
             "#9c179e"
            ],
            [
             0.4444444444444444,
             "#bd3786"
            ],
            [
             0.5555555555555556,
             "#d8576b"
            ],
            [
             0.6666666666666666,
             "#ed7953"
            ],
            [
             0.7777777777777778,
             "#fb9f3a"
            ],
            [
             0.8888888888888888,
             "#fdca26"
            ],
            [
             1,
             "#f0f921"
            ]
           ]
          },
          "colorway": [
           "#636efa",
           "#EF553B",
           "#00cc96",
           "#ab63fa",
           "#FFA15A",
           "#19d3f3",
           "#FF6692",
           "#B6E880",
           "#FF97FF",
           "#FECB52"
          ],
          "font": {
           "color": "#2a3f5f"
          },
          "geo": {
           "bgcolor": "white",
           "lakecolor": "white",
           "landcolor": "#E5ECF6",
           "showlakes": true,
           "showland": true,
           "subunitcolor": "white"
          },
          "hoverlabel": {
           "align": "left"
          },
          "hovermode": "closest",
          "mapbox": {
           "style": "light"
          },
          "paper_bgcolor": "white",
          "plot_bgcolor": "#E5ECF6",
          "polar": {
           "angularaxis": {
            "gridcolor": "white",
            "linecolor": "white",
            "ticks": ""
           },
           "bgcolor": "#E5ECF6",
           "radialaxis": {
            "gridcolor": "white",
            "linecolor": "white",
            "ticks": ""
           }
          },
          "scene": {
           "xaxis": {
            "backgroundcolor": "#E5ECF6",
            "gridcolor": "white",
            "gridwidth": 2,
            "linecolor": "white",
            "showbackground": true,
            "ticks": "",
            "zerolinecolor": "white"
           },
           "yaxis": {
            "backgroundcolor": "#E5ECF6",
            "gridcolor": "white",
            "gridwidth": 2,
            "linecolor": "white",
            "showbackground": true,
            "ticks": "",
            "zerolinecolor": "white"
           },
           "zaxis": {
            "backgroundcolor": "#E5ECF6",
            "gridcolor": "white",
            "gridwidth": 2,
            "linecolor": "white",
            "showbackground": true,
            "ticks": "",
            "zerolinecolor": "white"
           }
          },
          "shapedefaults": {
           "line": {
            "color": "#2a3f5f"
           }
          },
          "ternary": {
           "aaxis": {
            "gridcolor": "white",
            "linecolor": "white",
            "ticks": ""
           },
           "baxis": {
            "gridcolor": "white",
            "linecolor": "white",
            "ticks": ""
           },
           "bgcolor": "#E5ECF6",
           "caxis": {
            "gridcolor": "white",
            "linecolor": "white",
            "ticks": ""
           }
          },
          "title": {
           "x": 0.05
          },
          "xaxis": {
           "automargin": true,
           "gridcolor": "white",
           "linecolor": "white",
           "ticks": "",
           "title": {
            "standoff": 15
           },
           "zerolinecolor": "white",
           "zerolinewidth": 2
          },
          "yaxis": {
           "automargin": true,
           "gridcolor": "white",
           "linecolor": "white",
           "ticks": "",
           "title": {
            "standoff": 15
           },
           "zerolinecolor": "white",
           "zerolinewidth": 2
          }
         }
        },
        "xaxis": {
         "anchor": "y",
         "categoryarray": [
          1,
          0
         ],
         "categoryorder": "array",
         "domain": [
          0,
          1
         ],
         "title": {
          "text": "Sex"
         }
        },
        "yaxis": {
         "anchor": "x",
         "domain": [
          0,
          1
         ],
         "title": {
          "text": "sum of Age"
         }
        }
       }
      },
      "text/html": [
       "<div>                            <div id=\"747e3195-811c-4036-a3d8-b2e58f631019\" class=\"plotly-graph-div\" style=\"height:525px; width:100%;\"></div>            <script type=\"text/javascript\">                require([\"plotly\"], function(Plotly) {                    window.PLOTLYENV=window.PLOTLYENV || {};                                    if (document.getElementById(\"747e3195-811c-4036-a3d8-b2e58f631019\")) {                    Plotly.newPlot(                        \"747e3195-811c-4036-a3d8-b2e58f631019\",                        [{\"alignmentgroup\":\"True\",\"bingroup\":\"x\",\"histfunc\":\"sum\",\"hovertemplate\":\"Sex=%{x}<br>Smoking=0<br>sum of Age=%{y}<extra></extra>\",\"legendgroup\":\"1, 0\",\"marker\":{\"color\":\"#636efa\",\"pattern\":{\"shape\":\"\"}},\"name\":\"1, 0\",\"offsetgroup\":\"1, 0\",\"orientation\":\"v\",\"showlegend\":true,\"x\":[1,1,1,1,1,1,1,1,1,1,1,1,1,1,1,1,1,1,1,1,1,1,1,1,1,1,1,1,1,1,1,1,1,1,1,1,1,1,1,1,1,1,1,1,1,1,1,1,1,1,1,1,1,1,1,1,1,1,1,1,1,1,1,1,1,1,1,1,1,1,1,1,1,1,1,1,1,1,1,1,1,1,1,1,1,1,1,1,1,1,1,1,1,1,1,1,1,1,1,1,1,1],\"xaxis\":\"x\",\"y\":[75.0,55.0,50.0,75.0,45.0,50.0,82.0,87.0,45.0,53.0,58.0,94.0,85.0,65.0,69.0,90.0,60.0,72.0,51.0,80.0,68.0,95.0,45.0,45.0,65.0,42.0,79.0,51.0,55.0,65.0,44.0,57.0,60.0,60.0,58.0,63.0,65.0,75.0,55.0,45.0,50.0,60.0,60.0,53.0,60.0,75.0,68.0,50.0,80.0,64.0,75.0,60.0,62.0,60.0,85.0,66.0,45.0,59.0,50.0,63.0,40.0,75.0,60.667,80.0,50.0,45.0,77.0,63.0,45.0,70.0,85.0,65.0,73.0,68.0,73.0,47.0,58.0,55.0,40.0,77.0,75.0,70.0,54.0,61.0,55.0,64.0,50.0,53.0,58.0,45.0,55.0,65.0,61.0,56.0,40.0,42.0,70.0,70.0,50.0,55.0,60.0,60.0],\"yaxis\":\"y\",\"type\":\"histogram\"},{\"alignmentgroup\":\"True\",\"bingroup\":\"x\",\"histfunc\":\"sum\",\"hovertemplate\":\"Sex=%{x}<br>Smoking=1<br>sum of Age=%{y}<extra></extra>\",\"legendgroup\":\"1, 1\",\"marker\":{\"color\":\"#636efa\",\"pattern\":{\"shape\":\"/\"}},\"name\":\"1, 1\",\"offsetgroup\":\"1, 1\",\"orientation\":\"v\",\"showlegend\":true,\"x\":[1,1,1,1,1,1,1,1,1,1,1,1,1,1,1,1,1,1,1,1,1,1,1,1,1,1,1,1,1,1,1,1,1,1,1,1,1,1,1,1,1,1,1,1,1,1,1,1,1,1,1,1,1,1,1,1,1,1,1,1,1,1,1,1,1,1,1,1,1,1,1,1,1,1,1,1,1,1,1,1,1,1,1,1,1,1,1,1,1,1,1,1],\"xaxis\":\"x\",\"y\":[65.0,90.0,60.0,80.0,75.0,62.0,68.0,80.0,70.0,82.0,70.0,70.0,50.0,60.0,70.0,60.0,49.0,72.0,55.0,60.0,72.0,41.0,58.0,85.0,65.0,69.0,60.0,75.0,67.0,70.0,80.0,42.0,63.0,45.0,85.0,55.0,60.0,61.0,53.0,63.0,81.0,72.0,50.0,52.0,50.0,50.0,50.0,59.0,45.0,63.0,53.0,51.0,52.0,70.0,65.0,60.0,69.0,55.0,59.0,65.0,58.0,73.0,60.0,60.0,78.0,70.0,50.0,78.0,65.0,42.0,58.0,70.0,53.0,53.0,55.0,65.0,40.0,40.0,52.0,53.0,50.0,55.0,44.0,60.0,70.0,42.0,65.0,52.0,63.0,62.0,45.0,50.0],\"yaxis\":\"y\",\"type\":\"histogram\"},{\"alignmentgroup\":\"True\",\"bingroup\":\"x\",\"histfunc\":\"sum\",\"hovertemplate\":\"Sex=%{x}<br>Smoking=0<br>sum of Age=%{y}<extra></extra>\",\"legendgroup\":\"0, 0\",\"marker\":{\"color\":\"#EF553B\",\"pattern\":{\"shape\":\"\"}},\"name\":\"0, 0\",\"offsetgroup\":\"0, 0\",\"orientation\":\"v\",\"showlegend\":true,\"x\":[0,0,0,0,0,0,0,0,0,0,0,0,0,0,0,0,0,0,0,0,0,0,0,0,0,0,0,0,0,0,0,0,0,0,0,0,0,0,0,0,0,0,0,0,0,0,0,0,0,0,0,0,0,0,0,0,0,0,0,0,0,0,0,0,0,0,0,0,0,0,0,0,0,0,0,0,0,0,0,0,0,0,0,0,0,0,0,0,0,0,0,0,0,0,0,0,0,0,0,0,0],\"xaxis\":\"x\",\"y\":[65.0,65.0,49.0,70.0,48.0,65.0,65.0,75.0,95.0,50.0,50.0,82.0,60.0,60.0,57.0,53.0,60.0,70.0,50.0,45.0,42.0,70.0,55.0,70.0,60.0,59.0,42.0,58.0,70.0,60.0,63.0,60.0,70.0,58.0,60.0,85.0,65.0,86.0,66.0,60.0,60.0,43.0,46.0,58.0,46.0,65.0,62.0,46.0,50.0,61.0,72.0,65.0,52.0,50.0,80.0,65.0,70.0,49.0,50.0,60.0,60.667,40.0,64.0,45.0,65.0,50.0,50.0,40.0,60.0,49.0,48.0,70.0,54.0,55.0,75.0,65.0,72.0,60.0,65.0,70.0,73.0,53.0,50.0,55.0,70.0,65.0,62.0,68.0,45.0,51.0,67.0,45.0,70.0,50.0,55.0,45.0,65.0,90.0,45.0,55.0,45.0],\"yaxis\":\"y\",\"type\":\"histogram\"},{\"alignmentgroup\":\"True\",\"bingroup\":\"x\",\"histfunc\":\"sum\",\"hovertemplate\":\"Sex=%{x}<br>Smoking=1<br>sum of Age=%{y}<extra></extra>\",\"legendgroup\":\"0, 1\",\"marker\":{\"color\":\"#EF553B\",\"pattern\":{\"shape\":\"/\"}},\"name\":\"0, 1\",\"offsetgroup\":\"0, 1\",\"orientation\":\"v\",\"showlegend\":true,\"x\":[0,0,0,0],\"xaxis\":\"x\",\"y\":[50.0,60.0,70.0,72.0],\"yaxis\":\"y\",\"type\":\"histogram\"}],                        {\"template\":{\"data\":{\"histogram2dcontour\":[{\"type\":\"histogram2dcontour\",\"colorbar\":{\"outlinewidth\":0,\"ticks\":\"\"},\"colorscale\":[[0.0,\"#0d0887\"],[0.1111111111111111,\"#46039f\"],[0.2222222222222222,\"#7201a8\"],[0.3333333333333333,\"#9c179e\"],[0.4444444444444444,\"#bd3786\"],[0.5555555555555556,\"#d8576b\"],[0.6666666666666666,\"#ed7953\"],[0.7777777777777778,\"#fb9f3a\"],[0.8888888888888888,\"#fdca26\"],[1.0,\"#f0f921\"]]}],\"choropleth\":[{\"type\":\"choropleth\",\"colorbar\":{\"outlinewidth\":0,\"ticks\":\"\"}}],\"histogram2d\":[{\"type\":\"histogram2d\",\"colorbar\":{\"outlinewidth\":0,\"ticks\":\"\"},\"colorscale\":[[0.0,\"#0d0887\"],[0.1111111111111111,\"#46039f\"],[0.2222222222222222,\"#7201a8\"],[0.3333333333333333,\"#9c179e\"],[0.4444444444444444,\"#bd3786\"],[0.5555555555555556,\"#d8576b\"],[0.6666666666666666,\"#ed7953\"],[0.7777777777777778,\"#fb9f3a\"],[0.8888888888888888,\"#fdca26\"],[1.0,\"#f0f921\"]]}],\"heatmap\":[{\"type\":\"heatmap\",\"colorbar\":{\"outlinewidth\":0,\"ticks\":\"\"},\"colorscale\":[[0.0,\"#0d0887\"],[0.1111111111111111,\"#46039f\"],[0.2222222222222222,\"#7201a8\"],[0.3333333333333333,\"#9c179e\"],[0.4444444444444444,\"#bd3786\"],[0.5555555555555556,\"#d8576b\"],[0.6666666666666666,\"#ed7953\"],[0.7777777777777778,\"#fb9f3a\"],[0.8888888888888888,\"#fdca26\"],[1.0,\"#f0f921\"]]}],\"heatmapgl\":[{\"type\":\"heatmapgl\",\"colorbar\":{\"outlinewidth\":0,\"ticks\":\"\"},\"colorscale\":[[0.0,\"#0d0887\"],[0.1111111111111111,\"#46039f\"],[0.2222222222222222,\"#7201a8\"],[0.3333333333333333,\"#9c179e\"],[0.4444444444444444,\"#bd3786\"],[0.5555555555555556,\"#d8576b\"],[0.6666666666666666,\"#ed7953\"],[0.7777777777777778,\"#fb9f3a\"],[0.8888888888888888,\"#fdca26\"],[1.0,\"#f0f921\"]]}],\"contourcarpet\":[{\"type\":\"contourcarpet\",\"colorbar\":{\"outlinewidth\":0,\"ticks\":\"\"}}],\"contour\":[{\"type\":\"contour\",\"colorbar\":{\"outlinewidth\":0,\"ticks\":\"\"},\"colorscale\":[[0.0,\"#0d0887\"],[0.1111111111111111,\"#46039f\"],[0.2222222222222222,\"#7201a8\"],[0.3333333333333333,\"#9c179e\"],[0.4444444444444444,\"#bd3786\"],[0.5555555555555556,\"#d8576b\"],[0.6666666666666666,\"#ed7953\"],[0.7777777777777778,\"#fb9f3a\"],[0.8888888888888888,\"#fdca26\"],[1.0,\"#f0f921\"]]}],\"surface\":[{\"type\":\"surface\",\"colorbar\":{\"outlinewidth\":0,\"ticks\":\"\"},\"colorscale\":[[0.0,\"#0d0887\"],[0.1111111111111111,\"#46039f\"],[0.2222222222222222,\"#7201a8\"],[0.3333333333333333,\"#9c179e\"],[0.4444444444444444,\"#bd3786\"],[0.5555555555555556,\"#d8576b\"],[0.6666666666666666,\"#ed7953\"],[0.7777777777777778,\"#fb9f3a\"],[0.8888888888888888,\"#fdca26\"],[1.0,\"#f0f921\"]]}],\"mesh3d\":[{\"type\":\"mesh3d\",\"colorbar\":{\"outlinewidth\":0,\"ticks\":\"\"}}],\"scatter\":[{\"fillpattern\":{\"fillmode\":\"overlay\",\"size\":10,\"solidity\":0.2},\"type\":\"scatter\"}],\"parcoords\":[{\"type\":\"parcoords\",\"line\":{\"colorbar\":{\"outlinewidth\":0,\"ticks\":\"\"}}}],\"scatterpolargl\":[{\"type\":\"scatterpolargl\",\"marker\":{\"colorbar\":{\"outlinewidth\":0,\"ticks\":\"\"}}}],\"bar\":[{\"error_x\":{\"color\":\"#2a3f5f\"},\"error_y\":{\"color\":\"#2a3f5f\"},\"marker\":{\"line\":{\"color\":\"#E5ECF6\",\"width\":0.5},\"pattern\":{\"fillmode\":\"overlay\",\"size\":10,\"solidity\":0.2}},\"type\":\"bar\"}],\"scattergeo\":[{\"type\":\"scattergeo\",\"marker\":{\"colorbar\":{\"outlinewidth\":0,\"ticks\":\"\"}}}],\"scatterpolar\":[{\"type\":\"scatterpolar\",\"marker\":{\"colorbar\":{\"outlinewidth\":0,\"ticks\":\"\"}}}],\"histogram\":[{\"marker\":{\"pattern\":{\"fillmode\":\"overlay\",\"size\":10,\"solidity\":0.2}},\"type\":\"histogram\"}],\"scattergl\":[{\"type\":\"scattergl\",\"marker\":{\"colorbar\":{\"outlinewidth\":0,\"ticks\":\"\"}}}],\"scatter3d\":[{\"type\":\"scatter3d\",\"line\":{\"colorbar\":{\"outlinewidth\":0,\"ticks\":\"\"}},\"marker\":{\"colorbar\":{\"outlinewidth\":0,\"ticks\":\"\"}}}],\"scattermapbox\":[{\"type\":\"scattermapbox\",\"marker\":{\"colorbar\":{\"outlinewidth\":0,\"ticks\":\"\"}}}],\"scatterternary\":[{\"type\":\"scatterternary\",\"marker\":{\"colorbar\":{\"outlinewidth\":0,\"ticks\":\"\"}}}],\"scattercarpet\":[{\"type\":\"scattercarpet\",\"marker\":{\"colorbar\":{\"outlinewidth\":0,\"ticks\":\"\"}}}],\"carpet\":[{\"aaxis\":{\"endlinecolor\":\"#2a3f5f\",\"gridcolor\":\"white\",\"linecolor\":\"white\",\"minorgridcolor\":\"white\",\"startlinecolor\":\"#2a3f5f\"},\"baxis\":{\"endlinecolor\":\"#2a3f5f\",\"gridcolor\":\"white\",\"linecolor\":\"white\",\"minorgridcolor\":\"white\",\"startlinecolor\":\"#2a3f5f\"},\"type\":\"carpet\"}],\"table\":[{\"cells\":{\"fill\":{\"color\":\"#EBF0F8\"},\"line\":{\"color\":\"white\"}},\"header\":{\"fill\":{\"color\":\"#C8D4E3\"},\"line\":{\"color\":\"white\"}},\"type\":\"table\"}],\"barpolar\":[{\"marker\":{\"line\":{\"color\":\"#E5ECF6\",\"width\":0.5},\"pattern\":{\"fillmode\":\"overlay\",\"size\":10,\"solidity\":0.2}},\"type\":\"barpolar\"}],\"pie\":[{\"automargin\":true,\"type\":\"pie\"}]},\"layout\":{\"autotypenumbers\":\"strict\",\"colorway\":[\"#636efa\",\"#EF553B\",\"#00cc96\",\"#ab63fa\",\"#FFA15A\",\"#19d3f3\",\"#FF6692\",\"#B6E880\",\"#FF97FF\",\"#FECB52\"],\"font\":{\"color\":\"#2a3f5f\"},\"hovermode\":\"closest\",\"hoverlabel\":{\"align\":\"left\"},\"paper_bgcolor\":\"white\",\"plot_bgcolor\":\"#E5ECF6\",\"polar\":{\"bgcolor\":\"#E5ECF6\",\"angularaxis\":{\"gridcolor\":\"white\",\"linecolor\":\"white\",\"ticks\":\"\"},\"radialaxis\":{\"gridcolor\":\"white\",\"linecolor\":\"white\",\"ticks\":\"\"}},\"ternary\":{\"bgcolor\":\"#E5ECF6\",\"aaxis\":{\"gridcolor\":\"white\",\"linecolor\":\"white\",\"ticks\":\"\"},\"baxis\":{\"gridcolor\":\"white\",\"linecolor\":\"white\",\"ticks\":\"\"},\"caxis\":{\"gridcolor\":\"white\",\"linecolor\":\"white\",\"ticks\":\"\"}},\"coloraxis\":{\"colorbar\":{\"outlinewidth\":0,\"ticks\":\"\"}},\"colorscale\":{\"sequential\":[[0.0,\"#0d0887\"],[0.1111111111111111,\"#46039f\"],[0.2222222222222222,\"#7201a8\"],[0.3333333333333333,\"#9c179e\"],[0.4444444444444444,\"#bd3786\"],[0.5555555555555556,\"#d8576b\"],[0.6666666666666666,\"#ed7953\"],[0.7777777777777778,\"#fb9f3a\"],[0.8888888888888888,\"#fdca26\"],[1.0,\"#f0f921\"]],\"sequentialminus\":[[0.0,\"#0d0887\"],[0.1111111111111111,\"#46039f\"],[0.2222222222222222,\"#7201a8\"],[0.3333333333333333,\"#9c179e\"],[0.4444444444444444,\"#bd3786\"],[0.5555555555555556,\"#d8576b\"],[0.6666666666666666,\"#ed7953\"],[0.7777777777777778,\"#fb9f3a\"],[0.8888888888888888,\"#fdca26\"],[1.0,\"#f0f921\"]],\"diverging\":[[0,\"#8e0152\"],[0.1,\"#c51b7d\"],[0.2,\"#de77ae\"],[0.3,\"#f1b6da\"],[0.4,\"#fde0ef\"],[0.5,\"#f7f7f7\"],[0.6,\"#e6f5d0\"],[0.7,\"#b8e186\"],[0.8,\"#7fbc41\"],[0.9,\"#4d9221\"],[1,\"#276419\"]]},\"xaxis\":{\"gridcolor\":\"white\",\"linecolor\":\"white\",\"ticks\":\"\",\"title\":{\"standoff\":15},\"zerolinecolor\":\"white\",\"automargin\":true,\"zerolinewidth\":2},\"yaxis\":{\"gridcolor\":\"white\",\"linecolor\":\"white\",\"ticks\":\"\",\"title\":{\"standoff\":15},\"zerolinecolor\":\"white\",\"automargin\":true,\"zerolinewidth\":2},\"scene\":{\"xaxis\":{\"backgroundcolor\":\"#E5ECF6\",\"gridcolor\":\"white\",\"linecolor\":\"white\",\"showbackground\":true,\"ticks\":\"\",\"zerolinecolor\":\"white\",\"gridwidth\":2},\"yaxis\":{\"backgroundcolor\":\"#E5ECF6\",\"gridcolor\":\"white\",\"linecolor\":\"white\",\"showbackground\":true,\"ticks\":\"\",\"zerolinecolor\":\"white\",\"gridwidth\":2},\"zaxis\":{\"backgroundcolor\":\"#E5ECF6\",\"gridcolor\":\"white\",\"linecolor\":\"white\",\"showbackground\":true,\"ticks\":\"\",\"zerolinecolor\":\"white\",\"gridwidth\":2}},\"shapedefaults\":{\"line\":{\"color\":\"#2a3f5f\"}},\"annotationdefaults\":{\"arrowcolor\":\"#2a3f5f\",\"arrowhead\":0,\"arrowwidth\":1},\"geo\":{\"bgcolor\":\"white\",\"landcolor\":\"#E5ECF6\",\"subunitcolor\":\"white\",\"showland\":true,\"showlakes\":true,\"lakecolor\":\"white\"},\"title\":{\"x\":0.05},\"mapbox\":{\"style\":\"light\"}}},\"xaxis\":{\"anchor\":\"y\",\"domain\":[0.0,1.0],\"title\":{\"text\":\"Sex\"},\"categoryorder\":\"array\",\"categoryarray\":[1,0]},\"yaxis\":{\"anchor\":\"x\",\"domain\":[0.0,1.0],\"title\":{\"text\":\"sum of Age\"}},\"legend\":{\"title\":{\"text\":\"Sex, Smoking\"},\"tracegroupgap\":0},\"margin\":{\"t\":60},\"barmode\":\"relative\"},                        {\"responsive\": true}                    ).then(function(){\n",
       "                            \n",
       "var gd = document.getElementById('747e3195-811c-4036-a3d8-b2e58f631019');\n",
       "var x = new MutationObserver(function (mutations, observer) {{\n",
       "        var display = window.getComputedStyle(gd).display;\n",
       "        if (!display || display === 'none') {{\n",
       "            console.log([gd, 'removed!']);\n",
       "            Plotly.purge(gd);\n",
       "            observer.disconnect();\n",
       "        }}\n",
       "}});\n",
       "\n",
       "// Listen for the removal of the full notebook cells\n",
       "var notebookContainer = gd.closest('#notebook-container');\n",
       "if (notebookContainer) {{\n",
       "    x.observe(notebookContainer, {childList: true});\n",
       "}}\n",
       "\n",
       "// Listen for the clearing of the current output cell\n",
       "var outputEl = gd.closest('.output');\n",
       "if (outputEl) {{\n",
       "    x.observe(outputEl, {childList: true});\n",
       "}}\n",
       "\n",
       "                        })                };                });            </script>        </div>"
      ]
     },
     "metadata": {},
     "output_type": "display_data"
    }
   ],
   "source": [
    "fig = px.histogram(hf, x=\"Sex\", y=\"Age\",color=\"Sex\",pattern_shape=\"Smoking\")\n",
    "fig.show()"
   ]
  },
  {
   "cell_type": "code",
   "execution_count": null,
   "id": "949e5001",
   "metadata": {},
   "outputs": [],
   "source": []
  },
  {
   "cell_type": "code",
   "execution_count": null,
   "id": "38028f8a",
   "metadata": {},
   "outputs": [],
   "source": []
  },
  {
   "cell_type": "code",
   "execution_count": null,
   "id": "ce7d7fda",
   "metadata": {},
   "outputs": [],
   "source": []
  },
  {
   "cell_type": "code",
   "execution_count": null,
   "id": "c222cb53",
   "metadata": {},
   "outputs": [],
   "source": []
  },
  {
   "cell_type": "code",
   "execution_count": null,
   "id": "9566230e",
   "metadata": {},
   "outputs": [],
   "source": []
  },
  {
   "cell_type": "code",
   "execution_count": null,
   "id": "0ba6ae44",
   "metadata": {},
   "outputs": [],
   "source": []
  },
  {
   "cell_type": "code",
   "execution_count": null,
   "id": "312ee0ac",
   "metadata": {},
   "outputs": [],
   "source": []
  }
 ],
 "metadata": {
  "kernelspec": {
   "display_name": "Python 3 (ipykernel)",
   "language": "python",
   "name": "python3"
  },
  "language_info": {
   "codemirror_mode": {
    "name": "ipython",
    "version": 3
   },
   "file_extension": ".py",
   "mimetype": "text/x-python",
   "name": "python",
   "nbconvert_exporter": "python",
   "pygments_lexer": "ipython3",
   "version": "3.9.13"
  }
 },
 "nbformat": 4,
 "nbformat_minor": 5
}
